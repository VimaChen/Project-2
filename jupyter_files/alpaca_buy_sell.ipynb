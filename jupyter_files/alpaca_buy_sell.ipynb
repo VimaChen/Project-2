{
 "cells": [
  {
   "cell_type": "code",
   "execution_count": 17,
   "metadata": {},
   "outputs": [],
   "source": [
    "from pathlib import Path\n",
    "from datetime import datetime, timedelta\n",
    "import time\n",
    "import sys\n",
    "import os\n",
    "import requests\n",
    "import pickle\n",
    "import pandas as pd\n",
    "from dotenv import load_dotenv\n",
    "import alpaca_trade_api as tradeapi\n",
    "from sklearn.preprocessing import StandardScaler"
   ]
  },
  {
   "cell_type": "code",
   "execution_count": 220,
   "metadata": {},
   "outputs": [],
   "source": [
    "# Intialising Alpaca API\n",
    "load_dotenv()\n",
    "\n",
    "alpaca_api_key = os.getenv(\"ALPACA_API_KEY\")\n",
    "alpaca_secret_key = os.getenv(\"ALPACA_SECRET_KEY\")\n",
    "\n",
    "api = tradeapi.REST(\n",
    "    alpaca_api_key,\n",
    "    alpaca_secret_key,\n",
    "    'https://paper-api.alpaca.markets/',\n",
    "    api_version = \"v2\"\n",
    ")"
   ]
  },
  {
   "cell_type": "code",
   "execution_count": 18,
   "metadata": {},
   "outputs": [
    {
     "ename": "TypeError",
     "evalue": "'module' object is not callable",
     "output_type": "error",
     "traceback": [
      "\u001b[0;31m---------------------------------------------------------------------------\u001b[0m",
      "\u001b[0;31mTypeError\u001b[0m                                 Traceback (most recent call last)",
      "\u001b[0;32m/var/folders/h0/k0cw6gk14n95vmtn8d5_3x500000gp/T/ipykernel_7824/2791016892.py\u001b[0m in \u001b[0;36m<module>\u001b[0;34m\u001b[0m\n\u001b[1;32m      7\u001b[0m \u001b[0mprice\u001b[0m \u001b[0;34m=\u001b[0m \u001b[0;34m(\u001b[0m\u001b[0mapi\u001b[0m\u001b[0;34m.\u001b[0m\u001b[0mget_latest_crypto_bar\u001b[0m\u001b[0;34m(\u001b[0m\u001b[0mcrypto\u001b[0m\u001b[0;34m,\u001b[0m \u001b[0;34m'CBSE'\u001b[0m\u001b[0;34m)\u001b[0m\u001b[0;34m)\u001b[0m\u001b[0;34m.\u001b[0m\u001b[0mc\u001b[0m\u001b[0;34m\u001b[0m\u001b[0;34m\u001b[0m\u001b[0m\n\u001b[1;32m      8\u001b[0m \u001b[0mamount\u001b[0m \u001b[0;34m=\u001b[0m \u001b[0minvestment_increment\u001b[0m\u001b[0;34m/\u001b[0m\u001b[0mprice\u001b[0m\u001b[0;34m\u001b[0m\u001b[0;34m\u001b[0m\u001b[0m\n\u001b[0;32m----> 9\u001b[0;31m \u001b[0mmodel_file_path\u001b[0m \u001b[0;34m=\u001b[0m \u001b[0mPath\u001b[0m\u001b[0;34m(\u001b[0m\u001b[0;34m'Project-2/Resources/model.pkl'\u001b[0m\u001b[0;34m)\u001b[0m\u001b[0;34m\u001b[0m\u001b[0;34m\u001b[0m\u001b[0m\n\u001b[0m\u001b[1;32m     10\u001b[0m \u001b[0mscaler_file_path\u001b[0m \u001b[0;34m=\u001b[0m \u001b[0mPath\u001b[0m\u001b[0;34m(\u001b[0m\u001b[0;34m'Project-2/Resources/scaler.pkl'\u001b[0m\u001b[0;34m)\u001b[0m\u001b[0;34m\u001b[0m\u001b[0;34m\u001b[0m\u001b[0m\n",
      "\u001b[0;31mTypeError\u001b[0m: 'module' object is not callable"
     ]
    }
   ],
   "source": [
    "# User inputs\n",
    "crypto = 'BTCUSD'\n",
    "investment = 1000\n",
    "\n",
    "# Variables\n",
    "investment_increment = investment/20\n",
    "price = (api.get_latest_crypto_bar(crypto, 'CBSE')).c\n",
    "amount = investment_increment/price\n",
    "model_file_path = Path('Project-2/Resources/model.pkl')\n",
    "scaler_file_path = Path('Project-2/Resources/scaler.pkl')\n"
   ]
  },
  {
   "cell_type": "code",
   "execution_count": 222,
   "metadata": {},
   "outputs": [],
   "source": [
    "# Load the model\n",
    "model = pickle.load(open('/Users/michael1/Documents/FinTech/Project-2/Resources/model.pkl','rb'))"
   ]
  },
  {
   "cell_type": "code",
   "execution_count": 223,
   "metadata": {},
   "outputs": [],
   "source": [
    "# Prepare the data\n",
    "start_date = (datetime.today().date() - timedelta(days=9)).isoformat()\n",
    "data = api.get_crypto_bars(\n",
    "    symbol=crypto,\n",
    "    timeframe='1Day',\n",
    "    start=start_date\n",
    ").df\n",
    "\n",
    "data = data.loc[data['exchange'] == 'CBSE']\n",
    "data['sma_fast'] = data['close'].rolling(window=3).mean()\n",
    "data['sma_slow'] = data['close'].rolling(window=10).mean()\n",
    "data = data.dropna()\n",
    "\n",
    "X = data[['sma_fast', 'sma_slow']]"
   ]
  },
  {
   "cell_type": "code",
   "execution_count": 224,
   "metadata": {},
   "outputs": [],
   "source": [
    "# Scale X\n",
    "scaler = pickle.load(open(scaler_file_path, 'rb'))\n",
    "X_scaled = scaler.transform(X)"
   ]
  },
  {
   "cell_type": "code",
   "execution_count": 225,
   "metadata": {},
   "outputs": [],
   "source": [
    "# Predict the y variable\n",
    "signal = int(model.predict(X_scaled))"
   ]
  },
  {
   "cell_type": "code",
   "execution_count": 226,
   "metadata": {},
   "outputs": [
    {
     "name": "stdout",
     "output_type": "stream",
     "text": [
      "Successfully bought 0.00248 of BTCUSD.\n"
     ]
    }
   ],
   "source": [
    "# Initiate buying/selling\n",
    "if signal == 1:\n",
    "    api.submit_order(\n",
    "        symbol=crypto,\n",
    "        qty=amount,\n",
    "        time_in_force='gtc'\n",
    "    )\n",
    "    print(f'Successfully bought {round(amount, 5)} of {crypto}.')\n",
    "elif signal == -1:\n",
    "    api.submit_order(\n",
    "        symbol=crypto,\n",
    "        qty=amount,\n",
    "        side='sell',\n",
    "        time_in_force = 'gtc'\n",
    "    )\n",
    "    print(f'Successfully sold {round(amount, 5)} of {crypto}.')\n"
   ]
  }
 ],
 "metadata": {
  "kernelspec": {
   "display_name": "Python 3.7.13 ('alpacaenv')",
   "language": "python",
   "name": "python3"
  },
  "language_info": {
   "codemirror_mode": {
    "name": "ipython",
    "version": 3
   },
   "file_extension": ".py",
   "mimetype": "text/x-python",
   "name": "python",
   "nbconvert_exporter": "python",
   "pygments_lexer": "ipython3",
   "version": "3.7.13"
  },
  "orig_nbformat": 4,
  "vscode": {
   "interpreter": {
    "hash": "8f0704c3451d170b27a9fe3bae46038ebc955a4be6d579ea55a7651d2f495a7d"
   }
  }
 },
 "nbformat": 4,
 "nbformat_minor": 2
}
