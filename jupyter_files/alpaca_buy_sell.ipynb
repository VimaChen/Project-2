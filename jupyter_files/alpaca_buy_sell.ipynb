{
 "cells": [
  {
   "cell_type": "code",
   "execution_count": 2,
   "metadata": {},
   "outputs": [],
   "source": [
    "from pathlib import Path\n",
    "from datetime import datetime, timedelta\n",
    "import time\n",
    "import sys\n",
    "import os\n",
    "import requests\n",
    "import pickle\n",
    "import pandas as pd\n",
    "from dotenv import load_dotenv\n",
    "import alpaca_trade_api as tradeapi\n",
    "from sklearn.preprocessing import StandardScaler"
   ]
  },
  {
   "cell_type": "code",
   "execution_count": 3,
   "metadata": {},
   "outputs": [],
   "source": [
    "# Intialising Alpaca API\n",
    "load_dotenv()\n",
    "\n",
    "alpaca_api_key = os.getenv(\"ALPACA_API_KEY\")\n",
    "alpaca_secret_key = os.getenv(\"ALPACA_SECRET_KEY\")\n",
    "\n",
    "api = tradeapi.REST(\n",
    "    alpaca_api_key,\n",
    "    alpaca_secret_key,\n",
    "    'https://paper-api.alpaca.markets/',\n",
    "    api_version = \"v2\"\n",
    ")"
   ]
  },
  {
   "cell_type": "code",
   "execution_count": 4,
   "metadata": {},
   "outputs": [],
   "source": [
    "# User inputs\n",
    "crypto = 'BTCUSD'\n",
    "investment = 1000\n",
    "\n",
    "# Variables\n",
    "price = (api.get_latest_crypto_bar(crypto, 'CBSE')).c\n",
    "amount = investment/price\n",
    "model_file_path = Path('../Resources/model.pkl')\n",
    "scaler_file_path = Path('../Resources/scaler.pkl')"
   ]
  },
  {
   "cell_type": "code",
   "execution_count": 5,
   "metadata": {},
   "outputs": [],
   "source": [
    "# Load the model\n",
    "model = pickle.load(open('/Users/michael1/Documents/FinTech/Project-2/Resources/model.pkl','rb'))"
   ]
  },
  {
   "cell_type": "code",
   "execution_count": 6,
   "metadata": {},
   "outputs": [],
   "source": [
    "# Prepare the data\n",
    "start_date = (datetime.today().date() - timedelta(days=10)).isoformat()\n",
    "data = api.get_crypto_bars(\n",
    "    symbol=crypto,\n",
    "    timeframe='1H',\n",
    "    start=start_date\n",
    ").df\n",
    "\n",
    "data = data.loc[data['exchange'] == 'CBSE']\n",
    "data['sma_fast'] = data['close'].rolling(window=3).mean()\n",
    "data['sma_slow'] = data['close'].rolling(window=10).mean()\n",
    "data = data.dropna()\n",
    "\n",
    "X = data[['sma_fast', 'sma_slow']]"
   ]
  },
  {
   "cell_type": "code",
   "execution_count": 7,
   "metadata": {},
   "outputs": [],
   "source": [
    "# Scale X\n",
    "scaler = pickle.load(open(scaler_file_path, 'rb'))\n",
    "X_scaled = scaler.transform(X)"
   ]
  },
  {
   "cell_type": "code",
   "execution_count": 8,
   "metadata": {},
   "outputs": [],
   "source": [
    "# Predict the y variable\n",
    "signal = (model.predict(X_scaled))\n",
    "entry_exit = (signal[1] - signal[0])/2"
   ]
  },
  {
   "cell_type": "code",
   "execution_count": 48,
   "metadata": {},
   "outputs": [
    {
     "name": "stdout",
     "output_type": "stream",
     "text": [
      "Waiting/holding...\n"
     ]
    }
   ],
   "source": [
    "# Initiate buying/selling\n",
    "if entry_exit == 1:\n",
    "    api.submit_order(\n",
    "        symbol=crypto,\n",
    "        qty=amount,\n",
    "        time_in_force='gtc'\n",
    "    )\n",
    "    print(f'Successfully bought {round(amount, 5)} of {crypto}.')\n",
    "elif entry_exit == -1:\n",
    "    api.submit_order(\n",
    "        symbol=crypto,\n",
    "        qty=amount,\n",
    "        side='sell',\n",
    "        time_in_force = 'gtc'\n",
    "    )\n",
    "    print(f'Successfully sold {round(amount, 5)} of {crypto}.')\n",
    "else:\n",
    "    print(f'Waiting/holding...')\n"
   ]
  },
  {
   "cell_type": "code",
   "execution_count": null,
   "metadata": {},
   "outputs": [],
   "source": [
    "# Adding entry/exit"
   ]
  }
 ],
 "metadata": {
  "kernelspec": {
   "display_name": "Python 3.7.13 ('alpacaenv')",
   "language": "python",
   "name": "python3"
  },
  "language_info": {
   "codemirror_mode": {
    "name": "ipython",
    "version": 3
   },
   "file_extension": ".py",
   "mimetype": "text/x-python",
   "name": "python",
   "nbconvert_exporter": "python",
   "pygments_lexer": "ipython3",
   "version": "3.7.13"
  },
  "orig_nbformat": 4,
  "vscode": {
   "interpreter": {
    "hash": "8f0704c3451d170b27a9fe3bae46038ebc955a4be6d579ea55a7651d2f495a7d"
   }
  }
 },
 "nbformat": 4,
 "nbformat_minor": 2
}
