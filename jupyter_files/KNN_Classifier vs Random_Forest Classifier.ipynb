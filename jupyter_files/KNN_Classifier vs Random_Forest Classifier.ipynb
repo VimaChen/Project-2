{
 "cells": [
  {
   "cell_type": "markdown",
   "id": "8fe7d9c9-7e9b-4d04-8b9a-59a346eced72",
   "metadata": {},
   "source": [
    "### Import Preprocessed Data"
   ]
  },
  {
   "cell_type": "code",
   "execution_count": 1,
   "id": "873915a7-4b1c-4728-8a7e-fff8b335cbdf",
   "metadata": {},
   "outputs": [],
   "source": [
    "import pandas as pd\n",
    "from pathlib import Path\n",
    "import numpy as np\n",
    "import matplotlib.pyplot as plt\n",
    "from sklearn.model_selection import train_test_split\n",
    "from sklearn.metrics import classification_report\n",
    "from sklearn.preprocessing import StandardScaler"
   ]
  },
  {
   "cell_type": "code",
   "execution_count": 2,
   "id": "2ac904bf-1c52-4d87-ab77-368cf5c94e4d",
   "metadata": {},
   "outputs": [
    {
     "data": {
      "text/html": [
       "<div>\n",
       "<style scoped>\n",
       "    .dataframe tbody tr th:only-of-type {\n",
       "        vertical-align: middle;\n",
       "    }\n",
       "\n",
       "    .dataframe tbody tr th {\n",
       "        vertical-align: top;\n",
       "    }\n",
       "\n",
       "    .dataframe thead th {\n",
       "        text-align: right;\n",
       "    }\n",
       "</style>\n",
       "<table border=\"1\" class=\"dataframe\">\n",
       "  <thead>\n",
       "    <tr style=\"text-align: right;\">\n",
       "      <th></th>\n",
       "      <th>timestamp</th>\n",
       "      <th>open</th>\n",
       "      <th>high</th>\n",
       "      <th>low</th>\n",
       "      <th>close</th>\n",
       "      <th>volume</th>\n",
       "      <th>trade_count</th>\n",
       "      <th>vwap</th>\n",
       "      <th>actual_returns</th>\n",
       "      <th>sma_fast</th>\n",
       "      <th>sma_slow</th>\n",
       "      <th>signal</th>\n",
       "    </tr>\n",
       "  </thead>\n",
       "  <tbody>\n",
       "    <tr>\n",
       "      <th>0</th>\n",
       "      <td>2015-01-20 06:00:00+00:00</td>\n",
       "      <td>215.00</td>\n",
       "      <td>218.00</td>\n",
       "      <td>208.00</td>\n",
       "      <td>218.00</td>\n",
       "      <td>0.040000</td>\n",
       "      <td>4</td>\n",
       "      <td>214.500000</td>\n",
       "      <td>-0.033302</td>\n",
       "      <td>209.170000</td>\n",
       "      <td>219.525</td>\n",
       "      <td>-1</td>\n",
       "    </tr>\n",
       "    <tr>\n",
       "      <th>1</th>\n",
       "      <td>2015-01-21 06:00:00+00:00</td>\n",
       "      <td>245.50</td>\n",
       "      <td>257.73</td>\n",
       "      <td>216.59</td>\n",
       "      <td>246.62</td>\n",
       "      <td>4.330000</td>\n",
       "      <td>236</td>\n",
       "      <td>229.540393</td>\n",
       "      <td>0.131284</td>\n",
       "      <td>230.043333</td>\n",
       "      <td>216.643</td>\n",
       "      <td>1</td>\n",
       "    </tr>\n",
       "    <tr>\n",
       "      <th>2</th>\n",
       "      <td>2015-01-22 06:00:00+00:00</td>\n",
       "      <td>217.59</td>\n",
       "      <td>239.67</td>\n",
       "      <td>217.59</td>\n",
       "      <td>226.32</td>\n",
       "      <td>0.030000</td>\n",
       "      <td>3</td>\n",
       "      <td>227.860000</td>\n",
       "      <td>-0.082313</td>\n",
       "      <td>230.313333</td>\n",
       "      <td>210.376</td>\n",
       "      <td>-1</td>\n",
       "    </tr>\n",
       "    <tr>\n",
       "      <th>3</th>\n",
       "      <td>2015-01-23 06:00:00+00:00</td>\n",
       "      <td>230.00</td>\n",
       "      <td>235.00</td>\n",
       "      <td>215.00</td>\n",
       "      <td>235.00</td>\n",
       "      <td>0.180001</td>\n",
       "      <td>10</td>\n",
       "      <td>230.277693</td>\n",
       "      <td>0.038353</td>\n",
       "      <td>235.980000</td>\n",
       "      <td>207.876</td>\n",
       "      <td>1</td>\n",
       "    </tr>\n",
       "    <tr>\n",
       "      <th>4</th>\n",
       "      <td>2015-01-24 06:00:00+00:00</td>\n",
       "      <td>248.02</td>\n",
       "      <td>255.05</td>\n",
       "      <td>247.55</td>\n",
       "      <td>250.91</td>\n",
       "      <td>6.637441</td>\n",
       "      <td>15</td>\n",
       "      <td>252.211775</td>\n",
       "      <td>0.067702</td>\n",
       "      <td>237.410000</td>\n",
       "      <td>211.004</td>\n",
       "      <td>1</td>\n",
       "    </tr>\n",
       "  </tbody>\n",
       "</table>\n",
       "</div>"
      ],
      "text/plain": [
       "                   timestamp    open    high     low   close    volume  \\\n",
       "0  2015-01-20 06:00:00+00:00  215.00  218.00  208.00  218.00  0.040000   \n",
       "1  2015-01-21 06:00:00+00:00  245.50  257.73  216.59  246.62  4.330000   \n",
       "2  2015-01-22 06:00:00+00:00  217.59  239.67  217.59  226.32  0.030000   \n",
       "3  2015-01-23 06:00:00+00:00  230.00  235.00  215.00  235.00  0.180001   \n",
       "4  2015-01-24 06:00:00+00:00  248.02  255.05  247.55  250.91  6.637441   \n",
       "\n",
       "   trade_count        vwap  actual_returns    sma_fast  sma_slow  signal  \n",
       "0            4  214.500000       -0.033302  209.170000   219.525      -1  \n",
       "1          236  229.540393        0.131284  230.043333   216.643       1  \n",
       "2            3  227.860000       -0.082313  230.313333   210.376      -1  \n",
       "3           10  230.277693        0.038353  235.980000   207.876       1  \n",
       "4           15  252.211775        0.067702  237.410000   211.004       1  "
      ]
     },
     "execution_count": 2,
     "metadata": {},
     "output_type": "execute_result"
    }
   ],
   "source": [
    "df = pd.read_csv(Path(\"../Resources/master.csv\"))\n",
    "\n",
    "# Review the DataFrame\n",
    "df.head()"
   ]
  },
  {
   "cell_type": "code",
   "execution_count": 3,
   "id": "b119d8d9-5541-41ee-af97-8bf52af77716",
   "metadata": {},
   "outputs": [
    {
     "data": {
      "text/html": [
       "<div>\n",
       "<style scoped>\n",
       "    .dataframe tbody tr th:only-of-type {\n",
       "        vertical-align: middle;\n",
       "    }\n",
       "\n",
       "    .dataframe tbody tr th {\n",
       "        vertical-align: top;\n",
       "    }\n",
       "\n",
       "    .dataframe thead th {\n",
       "        text-align: right;\n",
       "    }\n",
       "</style>\n",
       "<table border=\"1\" class=\"dataframe\">\n",
       "  <thead>\n",
       "    <tr style=\"text-align: right;\">\n",
       "      <th></th>\n",
       "      <th>timestamp</th>\n",
       "      <th>open</th>\n",
       "      <th>high</th>\n",
       "      <th>low</th>\n",
       "      <th>close</th>\n",
       "      <th>volume</th>\n",
       "      <th>trade_count</th>\n",
       "      <th>vwap</th>\n",
       "      <th>actual_returns</th>\n",
       "      <th>sma_fast</th>\n",
       "      <th>sma_slow</th>\n",
       "      <th>signal</th>\n",
       "    </tr>\n",
       "  </thead>\n",
       "  <tbody>\n",
       "    <tr>\n",
       "      <th>0</th>\n",
       "      <td>2015-01-20 06:00:00+00:00</td>\n",
       "      <td>215.00</td>\n",
       "      <td>218.00</td>\n",
       "      <td>208.00</td>\n",
       "      <td>218.00</td>\n",
       "      <td>0.040000</td>\n",
       "      <td>4</td>\n",
       "      <td>214.500000</td>\n",
       "      <td>-0.033302</td>\n",
       "      <td>209.170000</td>\n",
       "      <td>219.525</td>\n",
       "      <td>1.0</td>\n",
       "    </tr>\n",
       "    <tr>\n",
       "      <th>1</th>\n",
       "      <td>2015-01-21 06:00:00+00:00</td>\n",
       "      <td>245.50</td>\n",
       "      <td>257.73</td>\n",
       "      <td>216.59</td>\n",
       "      <td>246.62</td>\n",
       "      <td>4.330000</td>\n",
       "      <td>236</td>\n",
       "      <td>229.540393</td>\n",
       "      <td>0.131284</td>\n",
       "      <td>230.043333</td>\n",
       "      <td>216.643</td>\n",
       "      <td>-1.0</td>\n",
       "    </tr>\n",
       "    <tr>\n",
       "      <th>2</th>\n",
       "      <td>2015-01-22 06:00:00+00:00</td>\n",
       "      <td>217.59</td>\n",
       "      <td>239.67</td>\n",
       "      <td>217.59</td>\n",
       "      <td>226.32</td>\n",
       "      <td>0.030000</td>\n",
       "      <td>3</td>\n",
       "      <td>227.860000</td>\n",
       "      <td>-0.082313</td>\n",
       "      <td>230.313333</td>\n",
       "      <td>210.376</td>\n",
       "      <td>1.0</td>\n",
       "    </tr>\n",
       "    <tr>\n",
       "      <th>3</th>\n",
       "      <td>2015-01-23 06:00:00+00:00</td>\n",
       "      <td>230.00</td>\n",
       "      <td>235.00</td>\n",
       "      <td>215.00</td>\n",
       "      <td>235.00</td>\n",
       "      <td>0.180001</td>\n",
       "      <td>10</td>\n",
       "      <td>230.277693</td>\n",
       "      <td>0.038353</td>\n",
       "      <td>235.980000</td>\n",
       "      <td>207.876</td>\n",
       "      <td>1.0</td>\n",
       "    </tr>\n",
       "    <tr>\n",
       "      <th>4</th>\n",
       "      <td>2015-01-24 06:00:00+00:00</td>\n",
       "      <td>248.02</td>\n",
       "      <td>255.05</td>\n",
       "      <td>247.55</td>\n",
       "      <td>250.91</td>\n",
       "      <td>6.637441</td>\n",
       "      <td>15</td>\n",
       "      <td>252.211775</td>\n",
       "      <td>0.067702</td>\n",
       "      <td>237.410000</td>\n",
       "      <td>211.004</td>\n",
       "      <td>1.0</td>\n",
       "    </tr>\n",
       "  </tbody>\n",
       "</table>\n",
       "</div>"
      ],
      "text/plain": [
       "                   timestamp    open    high     low   close    volume  \\\n",
       "0  2015-01-20 06:00:00+00:00  215.00  218.00  208.00  218.00  0.040000   \n",
       "1  2015-01-21 06:00:00+00:00  245.50  257.73  216.59  246.62  4.330000   \n",
       "2  2015-01-22 06:00:00+00:00  217.59  239.67  217.59  226.32  0.030000   \n",
       "3  2015-01-23 06:00:00+00:00  230.00  235.00  215.00  235.00  0.180001   \n",
       "4  2015-01-24 06:00:00+00:00  248.02  255.05  247.55  250.91  6.637441   \n",
       "\n",
       "   trade_count        vwap  actual_returns    sma_fast  sma_slow  signal  \n",
       "0            4  214.500000       -0.033302  209.170000   219.525     1.0  \n",
       "1          236  229.540393        0.131284  230.043333   216.643    -1.0  \n",
       "2            3  227.860000       -0.082313  230.313333   210.376     1.0  \n",
       "3           10  230.277693        0.038353  235.980000   207.876     1.0  \n",
       "4           15  252.211775        0.067702  237.410000   211.004     1.0  "
      ]
     },
     "execution_count": 3,
     "metadata": {},
     "output_type": "execute_result"
    }
   ],
   "source": [
    "df[\"signal\"] = df[\"signal\"].shift(-1)\n",
    "df.dropna(inplace = True)\n",
    "df.head()"
   ]
  },
  {
   "cell_type": "code",
   "execution_count": 4,
   "id": "7c31e1d7-5110-46d4-a3ed-fe7bbf199410",
   "metadata": {},
   "outputs": [
    {
     "data": {
      "text/html": [
       "<div>\n",
       "<style scoped>\n",
       "    .dataframe tbody tr th:only-of-type {\n",
       "        vertical-align: middle;\n",
       "    }\n",
       "\n",
       "    .dataframe tbody tr th {\n",
       "        vertical-align: top;\n",
       "    }\n",
       "\n",
       "    .dataframe thead th {\n",
       "        text-align: right;\n",
       "    }\n",
       "</style>\n",
       "<table border=\"1\" class=\"dataframe\">\n",
       "  <thead>\n",
       "    <tr style=\"text-align: right;\">\n",
       "      <th></th>\n",
       "      <th>open</th>\n",
       "      <th>high</th>\n",
       "      <th>low</th>\n",
       "      <th>close</th>\n",
       "      <th>volume</th>\n",
       "      <th>trade_count</th>\n",
       "      <th>vwap</th>\n",
       "      <th>actual_returns</th>\n",
       "      <th>sma_fast</th>\n",
       "      <th>sma_slow</th>\n",
       "      <th>signal</th>\n",
       "    </tr>\n",
       "    <tr>\n",
       "      <th>timestamp</th>\n",
       "      <th></th>\n",
       "      <th></th>\n",
       "      <th></th>\n",
       "      <th></th>\n",
       "      <th></th>\n",
       "      <th></th>\n",
       "      <th></th>\n",
       "      <th></th>\n",
       "      <th></th>\n",
       "      <th></th>\n",
       "      <th></th>\n",
       "    </tr>\n",
       "  </thead>\n",
       "  <tbody>\n",
       "    <tr>\n",
       "      <th>2015-01-20 06:00:00+00:00</th>\n",
       "      <td>215.00</td>\n",
       "      <td>218.00</td>\n",
       "      <td>208.00</td>\n",
       "      <td>218.00</td>\n",
       "      <td>0.040000</td>\n",
       "      <td>4</td>\n",
       "      <td>214.500000</td>\n",
       "      <td>-0.033302</td>\n",
       "      <td>209.170000</td>\n",
       "      <td>219.525</td>\n",
       "      <td>1.0</td>\n",
       "    </tr>\n",
       "    <tr>\n",
       "      <th>2015-01-21 06:00:00+00:00</th>\n",
       "      <td>245.50</td>\n",
       "      <td>257.73</td>\n",
       "      <td>216.59</td>\n",
       "      <td>246.62</td>\n",
       "      <td>4.330000</td>\n",
       "      <td>236</td>\n",
       "      <td>229.540393</td>\n",
       "      <td>0.131284</td>\n",
       "      <td>230.043333</td>\n",
       "      <td>216.643</td>\n",
       "      <td>-1.0</td>\n",
       "    </tr>\n",
       "    <tr>\n",
       "      <th>2015-01-22 06:00:00+00:00</th>\n",
       "      <td>217.59</td>\n",
       "      <td>239.67</td>\n",
       "      <td>217.59</td>\n",
       "      <td>226.32</td>\n",
       "      <td>0.030000</td>\n",
       "      <td>3</td>\n",
       "      <td>227.860000</td>\n",
       "      <td>-0.082313</td>\n",
       "      <td>230.313333</td>\n",
       "      <td>210.376</td>\n",
       "      <td>1.0</td>\n",
       "    </tr>\n",
       "    <tr>\n",
       "      <th>2015-01-23 06:00:00+00:00</th>\n",
       "      <td>230.00</td>\n",
       "      <td>235.00</td>\n",
       "      <td>215.00</td>\n",
       "      <td>235.00</td>\n",
       "      <td>0.180001</td>\n",
       "      <td>10</td>\n",
       "      <td>230.277693</td>\n",
       "      <td>0.038353</td>\n",
       "      <td>235.980000</td>\n",
       "      <td>207.876</td>\n",
       "      <td>1.0</td>\n",
       "    </tr>\n",
       "    <tr>\n",
       "      <th>2015-01-24 06:00:00+00:00</th>\n",
       "      <td>248.02</td>\n",
       "      <td>255.05</td>\n",
       "      <td>247.55</td>\n",
       "      <td>250.91</td>\n",
       "      <td>6.637441</td>\n",
       "      <td>15</td>\n",
       "      <td>252.211775</td>\n",
       "      <td>0.067702</td>\n",
       "      <td>237.410000</td>\n",
       "      <td>211.004</td>\n",
       "      <td>1.0</td>\n",
       "    </tr>\n",
       "  </tbody>\n",
       "</table>\n",
       "</div>"
      ],
      "text/plain": [
       "                             open    high     low   close    volume  \\\n",
       "timestamp                                                             \n",
       "2015-01-20 06:00:00+00:00  215.00  218.00  208.00  218.00  0.040000   \n",
       "2015-01-21 06:00:00+00:00  245.50  257.73  216.59  246.62  4.330000   \n",
       "2015-01-22 06:00:00+00:00  217.59  239.67  217.59  226.32  0.030000   \n",
       "2015-01-23 06:00:00+00:00  230.00  235.00  215.00  235.00  0.180001   \n",
       "2015-01-24 06:00:00+00:00  248.02  255.05  247.55  250.91  6.637441   \n",
       "\n",
       "                           trade_count        vwap  actual_returns  \\\n",
       "timestamp                                                            \n",
       "2015-01-20 06:00:00+00:00            4  214.500000       -0.033302   \n",
       "2015-01-21 06:00:00+00:00          236  229.540393        0.131284   \n",
       "2015-01-22 06:00:00+00:00            3  227.860000       -0.082313   \n",
       "2015-01-23 06:00:00+00:00           10  230.277693        0.038353   \n",
       "2015-01-24 06:00:00+00:00           15  252.211775        0.067702   \n",
       "\n",
       "                             sma_fast  sma_slow  signal  \n",
       "timestamp                                                \n",
       "2015-01-20 06:00:00+00:00  209.170000   219.525     1.0  \n",
       "2015-01-21 06:00:00+00:00  230.043333   216.643    -1.0  \n",
       "2015-01-22 06:00:00+00:00  230.313333   210.376     1.0  \n",
       "2015-01-23 06:00:00+00:00  235.980000   207.876     1.0  \n",
       "2015-01-24 06:00:00+00:00  237.410000   211.004     1.0  "
      ]
     },
     "execution_count": 4,
     "metadata": {},
     "output_type": "execute_result"
    }
   ],
   "source": [
    "df.timestamp = pd.to_datetime(df.timestamp)\n",
    "df = df.set_index(\"timestamp\")\n",
    "df.head()"
   ]
  },
  {
   "cell_type": "code",
   "execution_count": 5,
   "id": "0890eddd-5459-437c-a198-5e4a963994c4",
   "metadata": {},
   "outputs": [
    {
     "data": {
      "text/html": [
       "<div>\n",
       "<style scoped>\n",
       "    .dataframe tbody tr th:only-of-type {\n",
       "        vertical-align: middle;\n",
       "    }\n",
       "\n",
       "    .dataframe tbody tr th {\n",
       "        vertical-align: top;\n",
       "    }\n",
       "\n",
       "    .dataframe thead th {\n",
       "        text-align: right;\n",
       "    }\n",
       "</style>\n",
       "<table border=\"1\" class=\"dataframe\">\n",
       "  <thead>\n",
       "    <tr style=\"text-align: right;\">\n",
       "      <th></th>\n",
       "      <th>sma_fast</th>\n",
       "      <th>sma_slow</th>\n",
       "      <th>actual_returns</th>\n",
       "    </tr>\n",
       "    <tr>\n",
       "      <th>timestamp</th>\n",
       "      <th></th>\n",
       "      <th></th>\n",
       "      <th></th>\n",
       "    </tr>\n",
       "  </thead>\n",
       "  <tbody>\n",
       "    <tr>\n",
       "      <th>2015-01-20 06:00:00+00:00</th>\n",
       "      <td>209.170000</td>\n",
       "      <td>219.525</td>\n",
       "      <td>-0.033302</td>\n",
       "    </tr>\n",
       "    <tr>\n",
       "      <th>2015-01-21 06:00:00+00:00</th>\n",
       "      <td>230.043333</td>\n",
       "      <td>216.643</td>\n",
       "      <td>0.131284</td>\n",
       "    </tr>\n",
       "    <tr>\n",
       "      <th>2015-01-22 06:00:00+00:00</th>\n",
       "      <td>230.313333</td>\n",
       "      <td>210.376</td>\n",
       "      <td>-0.082313</td>\n",
       "    </tr>\n",
       "    <tr>\n",
       "      <th>2015-01-23 06:00:00+00:00</th>\n",
       "      <td>235.980000</td>\n",
       "      <td>207.876</td>\n",
       "      <td>0.038353</td>\n",
       "    </tr>\n",
       "    <tr>\n",
       "      <th>2015-01-24 06:00:00+00:00</th>\n",
       "      <td>237.410000</td>\n",
       "      <td>211.004</td>\n",
       "      <td>0.067702</td>\n",
       "    </tr>\n",
       "  </tbody>\n",
       "</table>\n",
       "</div>"
      ],
      "text/plain": [
       "                             sma_fast  sma_slow  actual_returns\n",
       "timestamp                                                      \n",
       "2015-01-20 06:00:00+00:00  209.170000   219.525       -0.033302\n",
       "2015-01-21 06:00:00+00:00  230.043333   216.643        0.131284\n",
       "2015-01-22 06:00:00+00:00  230.313333   210.376       -0.082313\n",
       "2015-01-23 06:00:00+00:00  235.980000   207.876        0.038353\n",
       "2015-01-24 06:00:00+00:00  237.410000   211.004        0.067702"
      ]
     },
     "metadata": {},
     "output_type": "display_data"
    },
    {
     "data": {
      "text/plain": [
       "timestamp\n",
       "2015-01-20 06:00:00+00:00    1.0\n",
       "2015-01-21 06:00:00+00:00   -1.0\n",
       "2015-01-22 06:00:00+00:00    1.0\n",
       "2015-01-23 06:00:00+00:00    1.0\n",
       "2015-01-24 06:00:00+00:00    1.0\n",
       "Name: signal, dtype: float64"
      ]
     },
     "metadata": {},
     "output_type": "display_data"
    }
   ],
   "source": [
    "X = df[['sma_fast', 'sma_slow','actual_returns']].dropna()\n",
    "y = df['signal']\n",
    "\n",
    "display(X.head())\n",
    "display(y.head())"
   ]
  },
  {
   "cell_type": "code",
   "execution_count": 6,
   "id": "aebc6308-cba8-4681-802e-71674d8b5bd1",
   "metadata": {},
   "outputs": [
    {
     "data": {
      "text/plain": [
       "open              0\n",
       "high              0\n",
       "low               0\n",
       "close             0\n",
       "volume            0\n",
       "trade_count       0\n",
       "vwap              0\n",
       "actual_returns    0\n",
       "sma_fast          0\n",
       "sma_slow          0\n",
       "signal            0\n",
       "dtype: int64"
      ]
     },
     "execution_count": 6,
     "metadata": {},
     "output_type": "execute_result"
    }
   ],
   "source": [
    "df.isna().sum()"
   ]
  },
  {
   "cell_type": "markdown",
   "id": "59cb0179-6bbe-4743-a941-0f98aafebd2f",
   "metadata": {},
   "source": [
    "### Scale the data using StandardScaler"
   ]
  },
  {
   "cell_type": "code",
   "execution_count": 7,
   "id": "1bfdd407-e045-46e8-a066-cc8bdcf8c2f5",
   "metadata": {},
   "outputs": [],
   "source": [
    "# Split the dataset using train_test_split\n",
    "# X_train, X_test, y_train, y_test = train_test_split(X,y, test_size=0.30, random_state=1)"
   ]
  },
  {
   "cell_type": "code",
   "execution_count": 8,
   "id": "3b14b693-a85e-454e-8fc7-2fdf8f54d410",
   "metadata": {},
   "outputs": [
    {
     "data": {
      "text/plain": [
       "(Timestamp('2015-01-20 06:00:00+0000', tz='UTC'),\n",
       " Timestamp('2021-12-31 06:00:00+0000', tz='UTC'))"
      ]
     },
     "execution_count": 8,
     "metadata": {},
     "output_type": "execute_result"
    }
   ],
   "source": [
    "X.index.min(), X.index.max()"
   ]
  },
  {
   "cell_type": "code",
   "execution_count": 9,
   "id": "0a76ba6b-443a-48b0-a4d9-ebe25f3900f6",
   "metadata": {},
   "outputs": [],
   "source": [
    "X_train = X.loc[:\"2021-06\"]\n",
    "X_test =  X.loc[\"2021-07\":]"
   ]
  },
  {
   "cell_type": "code",
   "execution_count": 10,
   "id": "3ed4836c-c43d-4c2c-a174-b88b5ade187d",
   "metadata": {},
   "outputs": [
    {
     "data": {
      "text/plain": [
       "((2773, 3), (477, 3))"
      ]
     },
     "execution_count": 10,
     "metadata": {},
     "output_type": "execute_result"
    }
   ],
   "source": [
    "X_train.shape, X_test.shape"
   ]
  },
  {
   "cell_type": "code",
   "execution_count": 11,
   "id": "4aad5437-aad4-44af-bdae-672c2aad79e8",
   "metadata": {},
   "outputs": [],
   "source": [
    "y_train = y[:X_train.shape[0]]\n",
    "y_test =  y[X_train.shape[0]:]"
   ]
  },
  {
   "cell_type": "code",
   "execution_count": 12,
   "id": "7d8e5987-57b5-4192-9b63-10db9c1b4317",
   "metadata": {},
   "outputs": [
    {
     "data": {
      "text/plain": [
       "((2773,), (477,))"
      ]
     },
     "execution_count": 12,
     "metadata": {},
     "output_type": "execute_result"
    }
   ],
   "source": [
    "y_train.shape, y_test.shape"
   ]
  },
  {
   "cell_type": "code",
   "execution_count": 13,
   "id": "aa3d8aae-b220-4a87-947c-90a4b8b9020c",
   "metadata": {},
   "outputs": [],
   "source": [
    "from sklearn.preprocessing import StandardScaler"
   ]
  },
  {
   "cell_type": "code",
   "execution_count": 14,
   "id": "078f5258-8ad5-4574-ac13-8226842debb7",
   "metadata": {},
   "outputs": [],
   "source": [
    "scaler = StandardScaler()"
   ]
  },
  {
   "cell_type": "code",
   "execution_count": 15,
   "id": "8f9bbb9e-c573-4e3a-8c05-a5aaa8d4e6bc",
   "metadata": {},
   "outputs": [],
   "source": [
    "# Fit the training data to the standard scaler\n",
    "X_scaler = scaler.fit(X_train)\n",
    "\n",
    "# Transform the training data using the scaler\n",
    "X_train_scaled = X_scaler.transform(X_train)\n",
    "\n",
    "# Transform the testing data using the scaler\n",
    "X_test_scaled = X_scaler.transform(X_test)"
   ]
  },
  {
   "cell_type": "markdown",
   "id": "0abc5960-1422-476e-ac97-dd77cf62ed0a",
   "metadata": {},
   "source": [
    "### Using KNN\n",
    "\n",
    "We'll start with k=1."
   ]
  },
  {
   "cell_type": "code",
   "execution_count": 16,
   "id": "8465bbd2-f732-4c22-a800-b1fc3a758d36",
   "metadata": {},
   "outputs": [],
   "source": [
    "from sklearn.neighbors import KNeighborsClassifier"
   ]
  },
  {
   "cell_type": "code",
   "execution_count": 17,
   "id": "bb4b4ce4-7fbc-4465-b723-006deb2e02e2",
   "metadata": {},
   "outputs": [],
   "source": [
    "# try K=5\n",
    "knn = KNeighborsClassifier(n_neighbors=5)"
   ]
  },
  {
   "cell_type": "code",
   "execution_count": 18,
   "id": "e72568de-53dc-4ff9-acda-3ca98fc5c392",
   "metadata": {},
   "outputs": [
    {
     "data": {
      "text/html": [
       "<style>#sk-container-id-1 {color: black;background-color: white;}#sk-container-id-1 pre{padding: 0;}#sk-container-id-1 div.sk-toggleable {background-color: white;}#sk-container-id-1 label.sk-toggleable__label {cursor: pointer;display: block;width: 100%;margin-bottom: 0;padding: 0.3em;box-sizing: border-box;text-align: center;}#sk-container-id-1 label.sk-toggleable__label-arrow:before {content: \"▸\";float: left;margin-right: 0.25em;color: #696969;}#sk-container-id-1 label.sk-toggleable__label-arrow:hover:before {color: black;}#sk-container-id-1 div.sk-estimator:hover label.sk-toggleable__label-arrow:before {color: black;}#sk-container-id-1 div.sk-toggleable__content {max-height: 0;max-width: 0;overflow: hidden;text-align: left;background-color: #f0f8ff;}#sk-container-id-1 div.sk-toggleable__content pre {margin: 0.2em;color: black;border-radius: 0.25em;background-color: #f0f8ff;}#sk-container-id-1 input.sk-toggleable__control:checked~div.sk-toggleable__content {max-height: 200px;max-width: 100%;overflow: auto;}#sk-container-id-1 input.sk-toggleable__control:checked~label.sk-toggleable__label-arrow:before {content: \"▾\";}#sk-container-id-1 div.sk-estimator input.sk-toggleable__control:checked~label.sk-toggleable__label {background-color: #d4ebff;}#sk-container-id-1 div.sk-label input.sk-toggleable__control:checked~label.sk-toggleable__label {background-color: #d4ebff;}#sk-container-id-1 input.sk-hidden--visually {border: 0;clip: rect(1px 1px 1px 1px);clip: rect(1px, 1px, 1px, 1px);height: 1px;margin: -1px;overflow: hidden;padding: 0;position: absolute;width: 1px;}#sk-container-id-1 div.sk-estimator {font-family: monospace;background-color: #f0f8ff;border: 1px dotted black;border-radius: 0.25em;box-sizing: border-box;margin-bottom: 0.5em;}#sk-container-id-1 div.sk-estimator:hover {background-color: #d4ebff;}#sk-container-id-1 div.sk-parallel-item::after {content: \"\";width: 100%;border-bottom: 1px solid gray;flex-grow: 1;}#sk-container-id-1 div.sk-label:hover label.sk-toggleable__label {background-color: #d4ebff;}#sk-container-id-1 div.sk-serial::before {content: \"\";position: absolute;border-left: 1px solid gray;box-sizing: border-box;top: 0;bottom: 0;left: 50%;z-index: 0;}#sk-container-id-1 div.sk-serial {display: flex;flex-direction: column;align-items: center;background-color: white;padding-right: 0.2em;padding-left: 0.2em;position: relative;}#sk-container-id-1 div.sk-item {position: relative;z-index: 1;}#sk-container-id-1 div.sk-parallel {display: flex;align-items: stretch;justify-content: center;background-color: white;position: relative;}#sk-container-id-1 div.sk-item::before, #sk-container-id-1 div.sk-parallel-item::before {content: \"\";position: absolute;border-left: 1px solid gray;box-sizing: border-box;top: 0;bottom: 0;left: 50%;z-index: -1;}#sk-container-id-1 div.sk-parallel-item {display: flex;flex-direction: column;z-index: 1;position: relative;background-color: white;}#sk-container-id-1 div.sk-parallel-item:first-child::after {align-self: flex-end;width: 50%;}#sk-container-id-1 div.sk-parallel-item:last-child::after {align-self: flex-start;width: 50%;}#sk-container-id-1 div.sk-parallel-item:only-child::after {width: 0;}#sk-container-id-1 div.sk-dashed-wrapped {border: 1px dashed gray;margin: 0 0.4em 0.5em 0.4em;box-sizing: border-box;padding-bottom: 0.4em;background-color: white;}#sk-container-id-1 div.sk-label label {font-family: monospace;font-weight: bold;display: inline-block;line-height: 1.2em;}#sk-container-id-1 div.sk-label-container {text-align: center;}#sk-container-id-1 div.sk-container {/* jupyter's `normalize.less` sets `[hidden] { display: none; }` but bootstrap.min.css set `[hidden] { display: none !important; }` so we also need the `!important` here to be able to override the default hidden behavior on the sphinx rendered scikit-learn.org. See: https://github.com/scikit-learn/scikit-learn/issues/21755 */display: inline-block !important;position: relative;}#sk-container-id-1 div.sk-text-repr-fallback {display: none;}</style><div id=\"sk-container-id-1\" class=\"sk-top-container\"><div class=\"sk-text-repr-fallback\"><pre>KNeighborsClassifier()</pre><b>In a Jupyter environment, please rerun this cell to show the HTML representation or trust the notebook. <br />On GitHub, the HTML representation is unable to render, please try loading this page with nbviewer.org.</b></div><div class=\"sk-container\" hidden><div class=\"sk-item\"><div class=\"sk-estimator sk-toggleable\"><input class=\"sk-toggleable__control sk-hidden--visually\" id=\"sk-estimator-id-1\" type=\"checkbox\" checked><label for=\"sk-estimator-id-1\" class=\"sk-toggleable__label sk-toggleable__label-arrow\">KNeighborsClassifier</label><div class=\"sk-toggleable__content\"><pre>KNeighborsClassifier()</pre></div></div></div></div></div>"
      ],
      "text/plain": [
       "KNeighborsClassifier()"
      ]
     },
     "execution_count": 18,
     "metadata": {},
     "output_type": "execute_result"
    }
   ],
   "source": [
    "knn.fit(X_train_scaled, y_train)"
   ]
  },
  {
   "cell_type": "markdown",
   "id": "e71d1b95-40b4-43ed-b28d-06ac9a06bc1a",
   "metadata": {},
   "source": [
    "### Predictions and Evaluations"
   ]
  },
  {
   "cell_type": "code",
   "execution_count": 19,
   "id": "eddbd3c2-cbff-40d2-89d9-2fc6dc5a85e9",
   "metadata": {},
   "outputs": [],
   "source": [
    "# Create predictions using the testing data\n",
    "pred = knn.predict(X_test_scaled)"
   ]
  },
  {
   "cell_type": "code",
   "execution_count": 20,
   "id": "06722ead-fa02-4810-9f3f-39a372329a28",
   "metadata": {},
   "outputs": [],
   "source": [
    "from sklearn.metrics import classification_report,confusion_matrix"
   ]
  },
  {
   "cell_type": "code",
   "execution_count": 21,
   "id": "7a92999e-bc54-4412-9ffd-b33a46ae7c65",
   "metadata": {},
   "outputs": [
    {
     "name": "stdout",
     "output_type": "stream",
     "text": [
      "[[114 119]\n",
      " [108 136]]\n"
     ]
    }
   ],
   "source": [
    "print(confusion_matrix(y_test,pred))"
   ]
  },
  {
   "cell_type": "code",
   "execution_count": 22,
   "id": "e1a255d7-2d2a-4cb8-9f2b-56747bbdc5b2",
   "metadata": {},
   "outputs": [
    {
     "name": "stdout",
     "output_type": "stream",
     "text": [
      "              precision    recall  f1-score   support\n",
      "\n",
      "        -1.0       0.51      0.49      0.50       233\n",
      "         1.0       0.53      0.56      0.55       244\n",
      "\n",
      "    accuracy                           0.52       477\n",
      "   macro avg       0.52      0.52      0.52       477\n",
      "weighted avg       0.52      0.52      0.52       477\n",
      "\n"
     ]
    }
   ],
   "source": [
    "# Print the classification report comparing the testing data to the model predictions\n",
    "print(classification_report(y_test, pred))"
   ]
  },
  {
   "cell_type": "markdown",
   "id": "32bf591a-488b-48a4-bc9b-88fdb656a2f3",
   "metadata": {},
   "source": [
    "### Choosing a K Value\n",
    "Let's go ahead and use the elbow method to pick a good K Value:"
   ]
  },
  {
   "cell_type": "code",
   "execution_count": 23,
   "id": "12f4755d-7582-47bb-b921-2c56c395c568",
   "metadata": {},
   "outputs": [],
   "source": [
    "error_rate = []\n",
    "\n",
    "for i in range(1,100):\n",
    "    \n",
    "    knn = KNeighborsClassifier(n_neighbors=i)\n",
    "    knn.fit(X_train_scaled, y_train)\n",
    "    pred_i = knn.predict(X_test_scaled)\n",
    "    error_rate.append(np.mean(pred_i != y_test))"
   ]
  },
  {
   "cell_type": "code",
   "execution_count": 24,
   "id": "767a72a0-2655-4d7c-b715-52f9b4f7ab5f",
   "metadata": {},
   "outputs": [
    {
     "data": {
      "text/plain": [
       "Text(0, 0.5, 'Error Rate')"
      ]
     },
     "execution_count": 24,
     "metadata": {},
     "output_type": "execute_result"
    },
    {
     "data": {
      "image/png": "[encoded data removed]",
      "text/plain": [
       "<Figure size 720x432 with 1 Axes>"
      ]
     },
     "metadata": {
      "needs_background": "light"
     },
     "output_type": "display_data"
    }
   ],
   "source": [
    "plt.figure(figsize=(10,6))\n",
    "plt.plot(range(1,100),error_rate,color='blue', linestyle='dashed', marker='o',\n",
    "         markerfacecolor='red', markersize=10)\n",
    "plt.title('Error Rate vs. K Value')\n",
    "plt.xlabel('K')\n",
    "plt.ylabel('Error Rate')"
   ]
  },
  {
   "cell_type": "markdown",
   "id": "ec9d2ea3-aabd-44bf-acb5-6c879e241096",
   "metadata": {},
   "source": [
    "#### Here we can see that that after around k=1 the error rate just tends to be the lowest Let's retrain the model with that and check the classification report!\n"
   ]
  },
  {
   "cell_type": "code",
   "execution_count": 25,
   "id": "28ce2f2c-50d0-413d-a6b9-78aa8028f5f9",
   "metadata": {},
   "outputs": [
    {
     "name": "stdout",
     "output_type": "stream",
     "text": [
      "WITH K=1\n",
      "\n",
      "\n",
      "[[129 104]\n",
      " [115 129]]\n",
      "\n",
      "\n",
      "              precision    recall  f1-score   support\n",
      "\n",
      "        -1.0       0.53      0.55      0.54       233\n",
      "         1.0       0.55      0.53      0.54       244\n",
      "\n",
      "    accuracy                           0.54       477\n",
      "   macro avg       0.54      0.54      0.54       477\n",
      "weighted avg       0.54      0.54      0.54       477\n",
      "\n"
     ]
    }
   ],
   "source": [
    "# A QUICK COMPARISON TO K=1\n",
    "knn = KNeighborsClassifier(n_neighbors=1)\n",
    "\n",
    "knn.fit(X_train_scaled, y_train)\n",
    "pred = knn.predict(X_test_scaled)\n",
    "\n",
    "print('WITH K=1')\n",
    "print('\\n')\n",
    "print(confusion_matrix(y_test,pred))\n",
    "print('\\n')\n",
    "print(classification_report(y_test,pred))"
   ]
  },
  {
   "cell_type": "markdown",
   "id": "ddf76819-6393-4c55-af79-5ae8aa76e921",
   "metadata": {},
   "source": [
    "### Create trading strategy using the model"
   ]
  },
  {
   "cell_type": "code",
   "execution_count": 26,
   "id": "7d57345b-1538-4166-b2b9-5738cbe67a65",
   "metadata": {},
   "outputs": [
    {
     "data": {
      "text/html": [
       "<div>\n",
       "<style scoped>\n",
       "    .dataframe tbody tr th:only-of-type {\n",
       "        vertical-align: middle;\n",
       "    }\n",
       "\n",
       "    .dataframe tbody tr th {\n",
       "        vertical-align: top;\n",
       "    }\n",
       "\n",
       "    .dataframe thead th {\n",
       "        text-align: right;\n",
       "    }\n",
       "</style>\n",
       "<table border=\"1\" class=\"dataframe\">\n",
       "  <thead>\n",
       "    <tr style=\"text-align: right;\">\n",
       "      <th></th>\n",
       "      <th>sma_fast</th>\n",
       "      <th>sma_slow</th>\n",
       "      <th>actual_returns</th>\n",
       "    </tr>\n",
       "    <tr>\n",
       "      <th>timestamp</th>\n",
       "      <th></th>\n",
       "      <th></th>\n",
       "      <th></th>\n",
       "    </tr>\n",
       "  </thead>\n",
       "  <tbody>\n",
       "    <tr>\n",
       "      <th>2021-07-01 05:00:00+00:00</th>\n",
       "      <td>34052.440000</td>\n",
       "      <td>34336.226</td>\n",
       "      <td>-0.022939</td>\n",
       "    </tr>\n",
       "    <tr>\n",
       "      <th>2021-07-01 05:00:00+00:00</th>\n",
       "      <td>33640.703333</td>\n",
       "      <td>34328.526</td>\n",
       "      <td>-0.012326</td>\n",
       "    </tr>\n",
       "    <tr>\n",
       "      <th>2021-07-02 05:00:00+00:00</th>\n",
       "      <td>33474.710000</td>\n",
       "      <td>34273.545</td>\n",
       "      <td>0.021207</td>\n",
       "    </tr>\n",
       "    <tr>\n",
       "      <th>2021-07-02 05:00:00+00:00</th>\n",
       "      <td>33507.673333</td>\n",
       "      <td>34197.745</td>\n",
       "      <td>-0.005621</td>\n",
       "    </tr>\n",
       "    <tr>\n",
       "      <th>2021-07-03 05:00:00+00:00</th>\n",
       "      <td>34067.673333</td>\n",
       "      <td>34188.914</td>\n",
       "      <td>0.034746</td>\n",
       "    </tr>\n",
       "    <tr>\n",
       "      <th>...</th>\n",
       "      <td>...</td>\n",
       "      <td>...</td>\n",
       "      <td>...</td>\n",
       "    </tr>\n",
       "    <tr>\n",
       "      <th>2021-12-30 06:00:00+00:00</th>\n",
       "      <td>46932.243333</td>\n",
       "      <td>47897.267</td>\n",
       "      <td>0.011481</td>\n",
       "    </tr>\n",
       "    <tr>\n",
       "      <th>2021-12-30 06:00:00+00:00</th>\n",
       "      <td>47071.310000</td>\n",
       "      <td>47693.011</td>\n",
       "      <td>-0.002253</td>\n",
       "    </tr>\n",
       "    <tr>\n",
       "      <th>2021-12-30 06:00:00+00:00</th>\n",
       "      <td>47259.976667</td>\n",
       "      <td>47507.671</td>\n",
       "      <td>0.002878</td>\n",
       "    </tr>\n",
       "    <tr>\n",
       "      <th>2021-12-31 06:00:00+00:00</th>\n",
       "      <td>47227.396667</td>\n",
       "      <td>47303.870</td>\n",
       "      <td>-0.002684</td>\n",
       "    </tr>\n",
       "    <tr>\n",
       "      <th>2021-12-31 06:00:00+00:00</th>\n",
       "      <td>47262.463333</td>\n",
       "      <td>47241.373</td>\n",
       "      <td>0.002043</td>\n",
       "    </tr>\n",
       "  </tbody>\n",
       "</table>\n",
       "<p>477 rows × 3 columns</p>\n",
       "</div>"
      ],
      "text/plain": [
       "                               sma_fast   sma_slow  actual_returns\n",
       "timestamp                                                         \n",
       "2021-07-01 05:00:00+00:00  34052.440000  34336.226       -0.022939\n",
       "2021-07-01 05:00:00+00:00  33640.703333  34328.526       -0.012326\n",
       "2021-07-02 05:00:00+00:00  33474.710000  34273.545        0.021207\n",
       "2021-07-02 05:00:00+00:00  33507.673333  34197.745       -0.005621\n",
       "2021-07-03 05:00:00+00:00  34067.673333  34188.914        0.034746\n",
       "...                                 ...        ...             ...\n",
       "2021-12-30 06:00:00+00:00  46932.243333  47897.267        0.011481\n",
       "2021-12-30 06:00:00+00:00  47071.310000  47693.011       -0.002253\n",
       "2021-12-30 06:00:00+00:00  47259.976667  47507.671        0.002878\n",
       "2021-12-31 06:00:00+00:00  47227.396667  47303.870       -0.002684\n",
       "2021-12-31 06:00:00+00:00  47262.463333  47241.373        0.002043\n",
       "\n",
       "[477 rows x 3 columns]"
      ]
     },
     "execution_count": 26,
     "metadata": {},
     "output_type": "execute_result"
    }
   ],
   "source": [
    "X_test"
   ]
  },
  {
   "cell_type": "code",
   "execution_count": 27,
   "id": "ce015503-6959-438e-852b-ea30aae11d62",
   "metadata": {},
   "outputs": [],
   "source": [
    "# Predicted Signal\n",
    "predictions_df= pd.DataFrame(index=X_test.index)\n",
    "predictions_df['Predicted_signals'] = pred"
   ]
  },
  {
   "cell_type": "code",
   "execution_count": 28,
   "id": "30e0730f-2c87-4149-aeb4-dc8c1b87a00b",
   "metadata": {},
   "outputs": [],
   "source": [
    "predictions_df['Actual Returns'] = X_test[\"actual_returns\"]\n",
    "predictions_df['Strategy Returns'] = X_test[\"actual_returns\"] * predictions_df['Predicted_signals'] \n"
   ]
  },
  {
   "cell_type": "code",
   "execution_count": 29,
   "id": "8f021c46-7dc2-49e8-a373-f7dbbbb49923",
   "metadata": {},
   "outputs": [
    {
     "data": {
      "text/html": [
       "<div>\n",
       "<style scoped>\n",
       "    .dataframe tbody tr th:only-of-type {\n",
       "        vertical-align: middle;\n",
       "    }\n",
       "\n",
       "    .dataframe tbody tr th {\n",
       "        vertical-align: top;\n",
       "    }\n",
       "\n",
       "    .dataframe thead th {\n",
       "        text-align: right;\n",
       "    }\n",
       "</style>\n",
       "<table border=\"1\" class=\"dataframe\">\n",
       "  <thead>\n",
       "    <tr style=\"text-align: right;\">\n",
       "      <th></th>\n",
       "      <th>Predicted_signals</th>\n",
       "      <th>Actual Returns</th>\n",
       "      <th>Strategy Returns</th>\n",
       "    </tr>\n",
       "    <tr>\n",
       "      <th>timestamp</th>\n",
       "      <th></th>\n",
       "      <th></th>\n",
       "      <th></th>\n",
       "    </tr>\n",
       "  </thead>\n",
       "  <tbody>\n",
       "    <tr>\n",
       "      <th>2021-07-01 05:00:00+00:00</th>\n",
       "      <td>-1.0</td>\n",
       "      <td>-0.022939</td>\n",
       "      <td>0.022939</td>\n",
       "    </tr>\n",
       "    <tr>\n",
       "      <th>2021-07-01 05:00:00+00:00</th>\n",
       "      <td>-1.0</td>\n",
       "      <td>-0.012326</td>\n",
       "      <td>0.012326</td>\n",
       "    </tr>\n",
       "    <tr>\n",
       "      <th>2021-07-02 05:00:00+00:00</th>\n",
       "      <td>-1.0</td>\n",
       "      <td>0.021207</td>\n",
       "      <td>-0.021207</td>\n",
       "    </tr>\n",
       "    <tr>\n",
       "      <th>2021-07-02 05:00:00+00:00</th>\n",
       "      <td>-1.0</td>\n",
       "      <td>-0.005621</td>\n",
       "      <td>0.005621</td>\n",
       "    </tr>\n",
       "    <tr>\n",
       "      <th>2021-07-03 05:00:00+00:00</th>\n",
       "      <td>1.0</td>\n",
       "      <td>0.034746</td>\n",
       "      <td>0.034746</td>\n",
       "    </tr>\n",
       "  </tbody>\n",
       "</table>\n",
       "</div>"
      ],
      "text/plain": [
       "                           Predicted_signals  Actual Returns  Strategy Returns\n",
       "timestamp                                                                     \n",
       "2021-07-01 05:00:00+00:00               -1.0       -0.022939          0.022939\n",
       "2021-07-01 05:00:00+00:00               -1.0       -0.012326          0.012326\n",
       "2021-07-02 05:00:00+00:00               -1.0        0.021207         -0.021207\n",
       "2021-07-02 05:00:00+00:00               -1.0       -0.005621          0.005621\n",
       "2021-07-03 05:00:00+00:00                1.0        0.034746          0.034746"
      ]
     },
     "metadata": {},
     "output_type": "display_data"
    },
    {
     "data": {
      "text/html": [
       "<div>\n",
       "<style scoped>\n",
       "    .dataframe tbody tr th:only-of-type {\n",
       "        vertical-align: middle;\n",
       "    }\n",
       "\n",
       "    .dataframe tbody tr th {\n",
       "        vertical-align: top;\n",
       "    }\n",
       "\n",
       "    .dataframe thead th {\n",
       "        text-align: right;\n",
       "    }\n",
       "</style>\n",
       "<table border=\"1\" class=\"dataframe\">\n",
       "  <thead>\n",
       "    <tr style=\"text-align: right;\">\n",
       "      <th></th>\n",
       "      <th>Predicted_signals</th>\n",
       "      <th>Actual Returns</th>\n",
       "      <th>Strategy Returns</th>\n",
       "    </tr>\n",
       "    <tr>\n",
       "      <th>timestamp</th>\n",
       "      <th></th>\n",
       "      <th></th>\n",
       "      <th></th>\n",
       "    </tr>\n",
       "  </thead>\n",
       "  <tbody>\n",
       "    <tr>\n",
       "      <th>2021-12-30 06:00:00+00:00</th>\n",
       "      <td>-1.0</td>\n",
       "      <td>0.011481</td>\n",
       "      <td>-0.011481</td>\n",
       "    </tr>\n",
       "    <tr>\n",
       "      <th>2021-12-30 06:00:00+00:00</th>\n",
       "      <td>1.0</td>\n",
       "      <td>-0.002253</td>\n",
       "      <td>-0.002253</td>\n",
       "    </tr>\n",
       "    <tr>\n",
       "      <th>2021-12-30 06:00:00+00:00</th>\n",
       "      <td>1.0</td>\n",
       "      <td>0.002878</td>\n",
       "      <td>0.002878</td>\n",
       "    </tr>\n",
       "    <tr>\n",
       "      <th>2021-12-31 06:00:00+00:00</th>\n",
       "      <td>1.0</td>\n",
       "      <td>-0.002684</td>\n",
       "      <td>-0.002684</td>\n",
       "    </tr>\n",
       "    <tr>\n",
       "      <th>2021-12-31 06:00:00+00:00</th>\n",
       "      <td>1.0</td>\n",
       "      <td>0.002043</td>\n",
       "      <td>0.002043</td>\n",
       "    </tr>\n",
       "  </tbody>\n",
       "</table>\n",
       "</div>"
      ],
      "text/plain": [
       "                           Predicted_signals  Actual Returns  Strategy Returns\n",
       "timestamp                                                                     \n",
       "2021-12-30 06:00:00+00:00               -1.0        0.011481         -0.011481\n",
       "2021-12-30 06:00:00+00:00                1.0       -0.002253         -0.002253\n",
       "2021-12-30 06:00:00+00:00                1.0        0.002878          0.002878\n",
       "2021-12-31 06:00:00+00:00                1.0       -0.002684         -0.002684\n",
       "2021-12-31 06:00:00+00:00                1.0        0.002043          0.002043"
      ]
     },
     "metadata": {},
     "output_type": "display_data"
    }
   ],
   "source": [
    "display(predictions_df.head())\n",
    "display(predictions_df.tail())"
   ]
  },
  {
   "cell_type": "markdown",
   "id": "78603c60-aace-439e-a2f0-e4f0a1aa0672",
   "metadata": {},
   "source": [
    "### Create a cumulative return plot that shows the actual returns vs. the strategy returns. Save a PNG image of this plot. This will serve as a baseline against which to compare the effects of tuning the trading algorithm."
   ]
  },
  {
   "cell_type": "code",
   "execution_count": 30,
   "id": "30d233e9-887a-40a4-8a3a-84f491df6eee",
   "metadata": {},
   "outputs": [
    {
     "data": {
      "image/png": "[encoded data removed]",
      "text/plain": [
       "<Figure size 432x288 with 1 Axes>"
      ]
     },
     "metadata": {
      "needs_background": "light"
     },
     "output_type": "display_data"
    }
   ],
   "source": [
    "knn_plot = (1 + predictions_df[[\"Actual Returns\", \"Strategy Returns\"]]).cumprod().plot(title=\"Baseline using KNN\").get_figure()\n",
    "knn_plot.savefig('../Plots/knn_Plot.png')"
   ]
  },
  {
   "cell_type": "code",
   "execution_count": 31,
   "id": "95c62023-d58f-4a89-90e7-47718eab8957",
   "metadata": {},
   "outputs": [
    {
     "data": {
      "text/html": [
       "<div>\n",
       "<style scoped>\n",
       "    .dataframe tbody tr th:only-of-type {\n",
       "        vertical-align: middle;\n",
       "    }\n",
       "\n",
       "    .dataframe tbody tr th {\n",
       "        vertical-align: top;\n",
       "    }\n",
       "\n",
       "    .dataframe thead th {\n",
       "        text-align: right;\n",
       "    }\n",
       "</style>\n",
       "<table border=\"1\" class=\"dataframe\">\n",
       "  <thead>\n",
       "    <tr style=\"text-align: right;\">\n",
       "      <th></th>\n",
       "      <th>Strategy Returns</th>\n",
       "    </tr>\n",
       "  </thead>\n",
       "  <tbody>\n",
       "    <tr>\n",
       "      <th>count</th>\n",
       "      <td>477.000000</td>\n",
       "    </tr>\n",
       "    <tr>\n",
       "      <th>mean</th>\n",
       "      <td>0.998452</td>\n",
       "    </tr>\n",
       "    <tr>\n",
       "      <th>std</th>\n",
       "      <td>0.021485</td>\n",
       "    </tr>\n",
       "    <tr>\n",
       "      <th>min</th>\n",
       "      <td>0.837128</td>\n",
       "    </tr>\n",
       "    <tr>\n",
       "      <th>25%</th>\n",
       "      <td>0.996607</td>\n",
       "    </tr>\n",
       "    <tr>\n",
       "      <th>50%</th>\n",
       "      <td>0.999632</td>\n",
       "    </tr>\n",
       "    <tr>\n",
       "      <th>75%</th>\n",
       "      <td>1.001671</td>\n",
       "    </tr>\n",
       "    <tr>\n",
       "      <th>max</th>\n",
       "      <td>1.113696</td>\n",
       "    </tr>\n",
       "  </tbody>\n",
       "</table>\n",
       "</div>"
      ],
      "text/plain": [
       "       Strategy Returns\n",
       "count        477.000000\n",
       "mean           0.998452\n",
       "std            0.021485\n",
       "min            0.837128\n",
       "25%            0.996607\n",
       "50%            0.999632\n",
       "75%            1.001671\n",
       "max            1.113696"
      ]
     },
     "execution_count": 31,
     "metadata": {},
     "output_type": "execute_result"
    }
   ],
   "source": [
    "(1 + predictions_df[[\"Strategy Returns\"]]).describe()"
   ]
  },
  {
   "cell_type": "code",
   "execution_count": 32,
   "id": "55531511-c16f-4b74-a853-433cb43801c5",
   "metadata": {},
   "outputs": [
    {
     "data": {
      "text/html": [
       "<div>\n",
       "<style scoped>\n",
       "    .dataframe tbody tr th:only-of-type {\n",
       "        vertical-align: middle;\n",
       "    }\n",
       "\n",
       "    .dataframe tbody tr th {\n",
       "        vertical-align: top;\n",
       "    }\n",
       "\n",
       "    .dataframe thead th {\n",
       "        text-align: right;\n",
       "    }\n",
       "</style>\n",
       "<table border=\"1\" class=\"dataframe\">\n",
       "  <thead>\n",
       "    <tr style=\"text-align: right;\">\n",
       "      <th></th>\n",
       "      <th>Strategy Returns</th>\n",
       "    </tr>\n",
       "    <tr>\n",
       "      <th>timestamp</th>\n",
       "      <th></th>\n",
       "    </tr>\n",
       "  </thead>\n",
       "  <tbody>\n",
       "    <tr>\n",
       "      <th>2021-12-31 06:00:00+00:00</th>\n",
       "      <td>0.427001</td>\n",
       "    </tr>\n",
       "  </tbody>\n",
       "</table>\n",
       "</div>"
      ],
      "text/plain": [
       "                           Strategy Returns\n",
       "timestamp                                  \n",
       "2021-12-31 06:00:00+00:00          0.427001"
      ]
     },
     "execution_count": 32,
     "metadata": {},
     "output_type": "execute_result"
    }
   ],
   "source": [
    "(1 + predictions_df[[\"Strategy Returns\"]]).cumprod().tail(1)"
   ]
  },
  {
   "cell_type": "markdown",
   "id": "790bc4f0-d63e-44c3-8fa0-7a9f2922d3a5",
   "metadata": {},
   "source": [
    "##  Evaluate a New Machine Learning Classifier - RandomForest"
   ]
  },
  {
   "cell_type": "code",
   "execution_count": 33,
   "id": "475d9cf6-5fe8-4d1c-97ce-7ea5fd0fd77a",
   "metadata": {},
   "outputs": [],
   "source": [
    "# Import a new classifier from SKLearn\n",
    "from sklearn.ensemble import RandomForestClassifier\n",
    "\n",
    "# Initiate the model instance\n",
    "rf_model = RandomForestClassifier()"
   ]
  },
  {
   "cell_type": "markdown",
   "id": "cbe3e040-fe3a-46c0-a276-3628c88fe4e6",
   "metadata": {},
   "source": [
    "### Using the original training data as the baseline model, fit another model with the new classifier."
   ]
  },
  {
   "cell_type": "code",
   "execution_count": 34,
   "id": "1ec1dee8-b4bc-402b-a0ec-b1245f2340b3",
   "metadata": {},
   "outputs": [
    {
     "data": {
      "text/plain": [
       "array([ 1.,  1., -1.,  1., -1., -1., -1., -1., -1., -1.])"
      ]
     },
     "execution_count": 34,
     "metadata": {},
     "output_type": "execute_result"
    }
   ],
   "source": [
    "# Fit the model using the training data\n",
    "model = rf_model.fit(X_train_scaled, y_train)\n",
    "\n",
    "# Use the testing dataset to generate the predictions for the new model\n",
    "rf_pred = model.predict(X_test_scaled)\n",
    "\n",
    "# Review the model's predicted values\n",
    "rf_pred[:10]"
   ]
  },
  {
   "cell_type": "markdown",
   "id": "00412da5-0393-4a60-b782-3a9b8033873e",
   "metadata": {},
   "source": [
    "### Backtest the new model to evaluate its performance."
   ]
  },
  {
   "cell_type": "code",
   "execution_count": 35,
   "id": "7a982220-7e7d-4903-86fa-db951f785c91",
   "metadata": {},
   "outputs": [
    {
     "name": "stdout",
     "output_type": "stream",
     "text": [
      "              precision    recall  f1-score   support\n",
      "\n",
      "        -1.0       0.53      0.55      0.54       233\n",
      "         1.0       0.55      0.53      0.54       244\n",
      "\n",
      "    accuracy                           0.54       477\n",
      "   macro avg       0.54      0.54      0.54       477\n",
      "weighted avg       0.54      0.54      0.54       477\n",
      "\n"
     ]
    }
   ],
   "source": [
    "# Use a classification report to evaluate the model using the predictions and testing data\n",
    "rf_report = classification_report(y_test, pred)\n",
    "\n",
    "# Print the classification report\n",
    "print(rf_report)"
   ]
  },
  {
   "cell_type": "code",
   "execution_count": 36,
   "id": "1307f5e2-de53-421c-b2dc-bbaf090a993b",
   "metadata": {},
   "outputs": [
    {
     "data": {
      "text/html": [
       "<div>\n",
       "<style scoped>\n",
       "    .dataframe tbody tr th:only-of-type {\n",
       "        vertical-align: middle;\n",
       "    }\n",
       "\n",
       "    .dataframe tbody tr th {\n",
       "        vertical-align: top;\n",
       "    }\n",
       "\n",
       "    .dataframe thead th {\n",
       "        text-align: right;\n",
       "    }\n",
       "</style>\n",
       "<table border=\"1\" class=\"dataframe\">\n",
       "  <thead>\n",
       "    <tr style=\"text-align: right;\">\n",
       "      <th></th>\n",
       "      <th>Predicted_signals</th>\n",
       "      <th>Actual Returns</th>\n",
       "      <th>Strategy Returns</th>\n",
       "    </tr>\n",
       "    <tr>\n",
       "      <th>timestamp</th>\n",
       "      <th></th>\n",
       "      <th></th>\n",
       "      <th></th>\n",
       "    </tr>\n",
       "  </thead>\n",
       "  <tbody>\n",
       "    <tr>\n",
       "      <th>2021-07-01 05:00:00+00:00</th>\n",
       "      <td>1.0</td>\n",
       "      <td>-0.022939</td>\n",
       "      <td>-0.022939</td>\n",
       "    </tr>\n",
       "    <tr>\n",
       "      <th>2021-07-01 05:00:00+00:00</th>\n",
       "      <td>1.0</td>\n",
       "      <td>-0.012326</td>\n",
       "      <td>-0.012326</td>\n",
       "    </tr>\n",
       "    <tr>\n",
       "      <th>2021-07-02 05:00:00+00:00</th>\n",
       "      <td>-1.0</td>\n",
       "      <td>0.021207</td>\n",
       "      <td>-0.021207</td>\n",
       "    </tr>\n",
       "    <tr>\n",
       "      <th>2021-07-02 05:00:00+00:00</th>\n",
       "      <td>1.0</td>\n",
       "      <td>-0.005621</td>\n",
       "      <td>-0.005621</td>\n",
       "    </tr>\n",
       "    <tr>\n",
       "      <th>2021-07-03 05:00:00+00:00</th>\n",
       "      <td>-1.0</td>\n",
       "      <td>0.034746</td>\n",
       "      <td>-0.034746</td>\n",
       "    </tr>\n",
       "  </tbody>\n",
       "</table>\n",
       "</div>"
      ],
      "text/plain": [
       "                           Predicted_signals  Actual Returns  Strategy Returns\n",
       "timestamp                                                                     \n",
       "2021-07-01 05:00:00+00:00                1.0       -0.022939         -0.022939\n",
       "2021-07-01 05:00:00+00:00                1.0       -0.012326         -0.012326\n",
       "2021-07-02 05:00:00+00:00               -1.0        0.021207         -0.021207\n",
       "2021-07-02 05:00:00+00:00                1.0       -0.005621         -0.005621\n",
       "2021-07-03 05:00:00+00:00               -1.0        0.034746         -0.034746"
      ]
     },
     "metadata": {},
     "output_type": "display_data"
    },
    {
     "data": {
      "text/html": [
       "<div>\n",
       "<style scoped>\n",
       "    .dataframe tbody tr th:only-of-type {\n",
       "        vertical-align: middle;\n",
       "    }\n",
       "\n",
       "    .dataframe tbody tr th {\n",
       "        vertical-align: top;\n",
       "    }\n",
       "\n",
       "    .dataframe thead th {\n",
       "        text-align: right;\n",
       "    }\n",
       "</style>\n",
       "<table border=\"1\" class=\"dataframe\">\n",
       "  <thead>\n",
       "    <tr style=\"text-align: right;\">\n",
       "      <th></th>\n",
       "      <th>Predicted_signals</th>\n",
       "      <th>Actual Returns</th>\n",
       "      <th>Strategy Returns</th>\n",
       "    </tr>\n",
       "    <tr>\n",
       "      <th>timestamp</th>\n",
       "      <th></th>\n",
       "      <th></th>\n",
       "      <th></th>\n",
       "    </tr>\n",
       "  </thead>\n",
       "  <tbody>\n",
       "    <tr>\n",
       "      <th>2021-12-30 06:00:00+00:00</th>\n",
       "      <td>-1.0</td>\n",
       "      <td>0.011481</td>\n",
       "      <td>-0.011481</td>\n",
       "    </tr>\n",
       "    <tr>\n",
       "      <th>2021-12-30 06:00:00+00:00</th>\n",
       "      <td>1.0</td>\n",
       "      <td>-0.002253</td>\n",
       "      <td>-0.002253</td>\n",
       "    </tr>\n",
       "    <tr>\n",
       "      <th>2021-12-30 06:00:00+00:00</th>\n",
       "      <td>1.0</td>\n",
       "      <td>0.002878</td>\n",
       "      <td>0.002878</td>\n",
       "    </tr>\n",
       "    <tr>\n",
       "      <th>2021-12-31 06:00:00+00:00</th>\n",
       "      <td>1.0</td>\n",
       "      <td>-0.002684</td>\n",
       "      <td>-0.002684</td>\n",
       "    </tr>\n",
       "    <tr>\n",
       "      <th>2021-12-31 06:00:00+00:00</th>\n",
       "      <td>1.0</td>\n",
       "      <td>0.002043</td>\n",
       "      <td>0.002043</td>\n",
       "    </tr>\n",
       "  </tbody>\n",
       "</table>\n",
       "</div>"
      ],
      "text/plain": [
       "                           Predicted_signals  Actual Returns  Strategy Returns\n",
       "timestamp                                                                     \n",
       "2021-12-30 06:00:00+00:00               -1.0        0.011481         -0.011481\n",
       "2021-12-30 06:00:00+00:00                1.0       -0.002253         -0.002253\n",
       "2021-12-30 06:00:00+00:00                1.0        0.002878          0.002878\n",
       "2021-12-31 06:00:00+00:00                1.0       -0.002684         -0.002684\n",
       "2021-12-31 06:00:00+00:00                1.0        0.002043          0.002043"
      ]
     },
     "metadata": {},
     "output_type": "display_data"
    }
   ],
   "source": [
    "# Create a new empty predictions DataFrame:\n",
    "\n",
    "# Create a predictions DataFrame\n",
    "rf_predictions_df = pd.DataFrame(index = X_test.index)\n",
    "\n",
    "# Add the SVM model predictions to the DataFrame\n",
    "rf_predictions_df['Predicted_signals'] = rf_pred\n",
    "\n",
    "# Add the actual returns to the DataFrame\n",
    "rf_predictions_df[\"Actual Returns\"] =  X_test[\"actual_returns\"]\n",
    "\n",
    "# Add the strategy returns to the DataFrame\n",
    "rf_predictions_df[\"Strategy Returns\"] = rf_predictions_df[\"Actual Returns\"]  * rf_predictions_df['Predicted_signals']\n",
    "\n",
    "\n",
    "# Review the DataFrame\n",
    "display(rf_predictions_df.head())\n",
    "display(rf_predictions_df.tail())\n"
   ]
  },
  {
   "cell_type": "code",
   "execution_count": 37,
   "id": "862e2692-c39b-4ec2-b6b1-31992b94e700",
   "metadata": {},
   "outputs": [
    {
     "data": {
      "image/png": "[encoded data removed]",
      "text/plain": [
       "<Figure size 432x288 with 1 Axes>"
      ]
     },
     "metadata": {
      "needs_background": "light"
     },
     "output_type": "display_data"
    }
   ],
   "source": [
    "# Plot the actual returns versus the strategy returns\n",
    "random_forest_plot = (1 + rf_predictions_df[[\"Actual Returns\", \"Strategy Returns\"]]).cumprod().plot(title=\"Baseline using RandomForest\").get_figure()\n",
    "random_forest_plot.savefig('../Plots/random_forest_plot.png')"
   ]
  },
  {
   "cell_type": "code",
   "execution_count": 38,
   "id": "c15ad7a5-33cf-4e84-9d99-4d7ce86c54b5",
   "metadata": {},
   "outputs": [
    {
     "data": {
      "text/html": [
       "<div>\n",
       "<style scoped>\n",
       "    .dataframe tbody tr th:only-of-type {\n",
       "        vertical-align: middle;\n",
       "    }\n",
       "\n",
       "    .dataframe tbody tr th {\n",
       "        vertical-align: top;\n",
       "    }\n",
       "\n",
       "    .dataframe thead th {\n",
       "        text-align: right;\n",
       "    }\n",
       "</style>\n",
       "<table border=\"1\" class=\"dataframe\">\n",
       "  <thead>\n",
       "    <tr style=\"text-align: right;\">\n",
       "      <th></th>\n",
       "      <th>Strategy Returns</th>\n",
       "    </tr>\n",
       "  </thead>\n",
       "  <tbody>\n",
       "    <tr>\n",
       "      <th>count</th>\n",
       "      <td>477.000000</td>\n",
       "    </tr>\n",
       "    <tr>\n",
       "      <th>mean</th>\n",
       "      <td>0.996531</td>\n",
       "    </tr>\n",
       "    <tr>\n",
       "      <th>std</th>\n",
       "      <td>0.021259</td>\n",
       "    </tr>\n",
       "    <tr>\n",
       "      <th>min</th>\n",
       "      <td>0.837128</td>\n",
       "    </tr>\n",
       "    <tr>\n",
       "      <th>25%</th>\n",
       "      <td>0.993827</td>\n",
       "    </tr>\n",
       "    <tr>\n",
       "      <th>50%</th>\n",
       "      <td>0.998924</td>\n",
       "    </tr>\n",
       "    <tr>\n",
       "      <th>75%</th>\n",
       "      <td>1.000611</td>\n",
       "    </tr>\n",
       "    <tr>\n",
       "      <th>max</th>\n",
       "      <td>1.113696</td>\n",
       "    </tr>\n",
       "  </tbody>\n",
       "</table>\n",
       "</div>"
      ],
      "text/plain": [
       "       Strategy Returns\n",
       "count        477.000000\n",
       "mean           0.996531\n",
       "std            0.021259\n",
       "min            0.837128\n",
       "25%            0.993827\n",
       "50%            0.998924\n",
       "75%            1.000611\n",
       "max            1.113696"
      ]
     },
     "execution_count": 38,
     "metadata": {},
     "output_type": "execute_result"
    }
   ],
   "source": [
    "(1 + rf_predictions_df[[\"Strategy Returns\"]]).describe()"
   ]
  },
  {
   "cell_type": "code",
   "execution_count": 39,
   "id": "fdd4c846-e556-4840-a26b-630d5d0c27ac",
   "metadata": {},
   "outputs": [
    {
     "data": {
      "text/html": [
       "<div>\n",
       "<style scoped>\n",
       "    .dataframe tbody tr th:only-of-type {\n",
       "        vertical-align: middle;\n",
       "    }\n",
       "\n",
       "    .dataframe tbody tr th {\n",
       "        vertical-align: top;\n",
       "    }\n",
       "\n",
       "    .dataframe thead th {\n",
       "        text-align: right;\n",
       "    }\n",
       "</style>\n",
       "<table border=\"1\" class=\"dataframe\">\n",
       "  <thead>\n",
       "    <tr style=\"text-align: right;\">\n",
       "      <th></th>\n",
       "      <th>Strategy Returns</th>\n",
       "    </tr>\n",
       "    <tr>\n",
       "      <th>timestamp</th>\n",
       "      <th></th>\n",
       "    </tr>\n",
       "  </thead>\n",
       "  <tbody>\n",
       "    <tr>\n",
       "      <th>2021-12-31 06:00:00+00:00</th>\n",
       "      <td>0.170805</td>\n",
       "    </tr>\n",
       "  </tbody>\n",
       "</table>\n",
       "</div>"
      ],
      "text/plain": [
       "                           Strategy Returns\n",
       "timestamp                                  \n",
       "2021-12-31 06:00:00+00:00          0.170805"
      ]
     },
     "execution_count": 39,
     "metadata": {},
     "output_type": "execute_result"
    }
   ],
   "source": [
    "(1 + rf_predictions_df[[\"Strategy Returns\"]]).cumprod().tail(1)"
   ]
  },
  {
   "cell_type": "code",
   "execution_count": null,
   "id": "685fac68-6ab9-4a96-98c8-dba650b14c3c",
   "metadata": {},
   "outputs": [],
   "source": []
  }
 ],
 "metadata": {
  "kernelspec": {
   "display_name": "Python 3 (ipykernel)",
   "language": "python",
   "name": "python3"
  },
  "language_info": {
   "codemirror_mode": {
    "name": "ipython",
    "version": 3
   },
   "file_extension": ".py",
   "mimetype": "text/x-python",
   "name": "python",
   "nbconvert_exporter": "python",
   "pygments_lexer": "ipython3",
   "version": "3.9.12"
  },
  "widgets": {
   "application/vnd.jupyter.widget-state+json": {
    "state": {},
    "version_major": 2,
    "version_minor": 0
   }
  }
 },
 "nbformat": 4,
 "nbformat_minor": 5
}
