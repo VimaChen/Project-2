{
 "cells": [
  {
   "cell_type": "code",
   "execution_count": 39,
   "id": "aa889898-cc9a-4d75-af5c-3aa8b803d928",
   "metadata": {},
   "outputs": [],
   "source": [
    "import pandas as pd\n",
    "from pathlib import Path\n",
    "from sklearn.model_selection import train_test_split\n",
    "from sklearn.linear_model import LogisticRegression\n",
    "from sklearn.metrics import classification_report\n",
    "from sklearn.preprocessing import StandardScaler"
   ]
  },
  {
   "cell_type": "code",
   "execution_count": 4,
   "id": "59e33661-0141-4c35-bac5-35cfeaed82f2",
   "metadata": {},
   "outputs": [],
   "source": [
    "df = pd.read_csv(\n",
    "    Path(\"../master.csv\")\n",
    ")"
   ]
  },
  {
   "cell_type": "code",
   "execution_count": 5,
   "id": "179eb3e4-b247-4016-9bc0-5959efdac813",
   "metadata": {},
   "outputs": [
    {
     "data": {
      "text/html": [
       "<div>\n",
       "<style scoped>\n",
       "    .dataframe tbody tr th:only-of-type {\n",
       "        vertical-align: middle;\n",
       "    }\n",
       "\n",
       "    .dataframe tbody tr th {\n",
       "        vertical-align: top;\n",
       "    }\n",
       "\n",
       "    .dataframe thead th {\n",
       "        text-align: right;\n",
       "    }\n",
       "</style>\n",
       "<table border=\"1\" class=\"dataframe\">\n",
       "  <thead>\n",
       "    <tr style=\"text-align: right;\">\n",
       "      <th></th>\n",
       "      <th>timestamp</th>\n",
       "      <th>open</th>\n",
       "      <th>high</th>\n",
       "      <th>low</th>\n",
       "      <th>close</th>\n",
       "      <th>volume</th>\n",
       "      <th>trade_count</th>\n",
       "      <th>vwap</th>\n",
       "      <th>actual_returns</th>\n",
       "      <th>sma_fast</th>\n",
       "      <th>sma_slow</th>\n",
       "      <th>signal</th>\n",
       "    </tr>\n",
       "  </thead>\n",
       "  <tbody>\n",
       "    <tr>\n",
       "      <th>0</th>\n",
       "      <td>2015-01-20 06:00:00+00:00</td>\n",
       "      <td>215.00</td>\n",
       "      <td>218.00</td>\n",
       "      <td>208.00</td>\n",
       "      <td>218.00</td>\n",
       "      <td>0.040000</td>\n",
       "      <td>4</td>\n",
       "      <td>214.500000</td>\n",
       "      <td>-0.033302</td>\n",
       "      <td>209.170000</td>\n",
       "      <td>219.525</td>\n",
       "      <td>-1</td>\n",
       "    </tr>\n",
       "    <tr>\n",
       "      <th>1</th>\n",
       "      <td>2015-01-21 06:00:00+00:00</td>\n",
       "      <td>245.50</td>\n",
       "      <td>257.73</td>\n",
       "      <td>216.59</td>\n",
       "      <td>246.62</td>\n",
       "      <td>4.330000</td>\n",
       "      <td>236</td>\n",
       "      <td>229.540393</td>\n",
       "      <td>0.131284</td>\n",
       "      <td>230.043333</td>\n",
       "      <td>216.643</td>\n",
       "      <td>1</td>\n",
       "    </tr>\n",
       "    <tr>\n",
       "      <th>2</th>\n",
       "      <td>2015-01-22 06:00:00+00:00</td>\n",
       "      <td>217.59</td>\n",
       "      <td>239.67</td>\n",
       "      <td>217.59</td>\n",
       "      <td>226.32</td>\n",
       "      <td>0.030000</td>\n",
       "      <td>3</td>\n",
       "      <td>227.860000</td>\n",
       "      <td>-0.082313</td>\n",
       "      <td>230.313333</td>\n",
       "      <td>210.376</td>\n",
       "      <td>-1</td>\n",
       "    </tr>\n",
       "    <tr>\n",
       "      <th>3</th>\n",
       "      <td>2015-01-23 06:00:00+00:00</td>\n",
       "      <td>230.00</td>\n",
       "      <td>235.00</td>\n",
       "      <td>215.00</td>\n",
       "      <td>235.00</td>\n",
       "      <td>0.180001</td>\n",
       "      <td>10</td>\n",
       "      <td>230.277693</td>\n",
       "      <td>0.038353</td>\n",
       "      <td>235.980000</td>\n",
       "      <td>207.876</td>\n",
       "      <td>1</td>\n",
       "    </tr>\n",
       "    <tr>\n",
       "      <th>4</th>\n",
       "      <td>2015-01-24 06:00:00+00:00</td>\n",
       "      <td>248.02</td>\n",
       "      <td>255.05</td>\n",
       "      <td>247.55</td>\n",
       "      <td>250.91</td>\n",
       "      <td>6.637441</td>\n",
       "      <td>15</td>\n",
       "      <td>252.211775</td>\n",
       "      <td>0.067702</td>\n",
       "      <td>237.410000</td>\n",
       "      <td>211.004</td>\n",
       "      <td>1</td>\n",
       "    </tr>\n",
       "  </tbody>\n",
       "</table>\n",
       "</div>"
      ],
      "text/plain": [
       "                   timestamp    open    high     low   close    volume  \\\n",
       "0  2015-01-20 06:00:00+00:00  215.00  218.00  208.00  218.00  0.040000   \n",
       "1  2015-01-21 06:00:00+00:00  245.50  257.73  216.59  246.62  4.330000   \n",
       "2  2015-01-22 06:00:00+00:00  217.59  239.67  217.59  226.32  0.030000   \n",
       "3  2015-01-23 06:00:00+00:00  230.00  235.00  215.00  235.00  0.180001   \n",
       "4  2015-01-24 06:00:00+00:00  248.02  255.05  247.55  250.91  6.637441   \n",
       "\n",
       "   trade_count        vwap  actual_returns    sma_fast  sma_slow  signal  \n",
       "0            4  214.500000       -0.033302  209.170000   219.525      -1  \n",
       "1          236  229.540393        0.131284  230.043333   216.643       1  \n",
       "2            3  227.860000       -0.082313  230.313333   210.376      -1  \n",
       "3           10  230.277693        0.038353  235.980000   207.876       1  \n",
       "4           15  252.211775        0.067702  237.410000   211.004       1  "
      ]
     },
     "execution_count": 5,
     "metadata": {},
     "output_type": "execute_result"
    }
   ],
   "source": [
    "df.head()"
   ]
  },
  {
   "cell_type": "code",
   "execution_count": 40,
   "id": "ab9c9ea6-850b-4817-b79c-74261dd176ff",
   "metadata": {},
   "outputs": [],
   "source": [
    "# Split the data into X (features) and y (target)\n",
    "\n",
    "X = df[['sma_fast', 'sma_slow']]\n",
    "y = df['signal']\n",
    "\n",
    "\n",
    "# Split into testing and training sets using train_test_split\n",
    "X_train, X_test, y_train, y_test = train_test_split(X, y, random_state=1)"
   ]
  },
  {
   "cell_type": "code",
   "execution_count": 41,
   "id": "40f063db-8773-4d66-b5a9-cd1758c33d88",
   "metadata": {},
   "outputs": [],
   "source": [
    "scaler = StandardScaler()\n",
    "X_scaler = scaler.fit(X_train)\n",
    "X_train_scaled = X_scaler.transform(X_train)\n",
    "X_test_scaled = X_scaler.transform(X_test)"
   ]
  },
  {
   "cell_type": "code",
   "execution_count": 42,
   "id": "297d1758-6e0f-4336-a055-790d4ceeee6d",
   "metadata": {},
   "outputs": [],
   "source": [
    "# Declare a logistic regression model.\n",
    "\n",
    "logistic_regression_model = LogisticRegression(random_state=5)\n",
    "\n",
    "# Fit and save the logistic regression model using the training data\n",
    "lr_model = logistic_regression_model.fit(X_train, y_train)"
   ]
  },
  {
   "cell_type": "code",
   "execution_count": 43,
   "id": "57e6a28c-cc64-4949-96bf-ab6b292d9514",
   "metadata": {},
   "outputs": [],
   "source": [
    "#Generate training predictions\n",
    "training_predictions = lr_model.predict(X_train)\n",
    "\n",
    "#Generate testing predictions\n",
    "testing_predictions = logistic_regression_model.predict(X_test)"
   ]
  },
  {
   "cell_type": "code",
   "execution_count": 44,
   "id": "a27146c5-699e-477b-afdc-a2685db06239",
   "metadata": {},
   "outputs": [
    {
     "name": "stdout",
     "output_type": "stream",
     "text": [
      "[[415 722]\n",
      " [365 936]]\n"
     ]
    }
   ],
   "source": [
    "# Import the model for sklearn's confusion matrix\n",
    "from sklearn.metrics import confusion_matrix\n",
    "\n",
    "# Create and save the confustion matrix for the training data\n",
    "training_matrix = confusion_matrix(y_train, training_predictions)\n",
    "\n",
    "# Print the confusion matrix for the training data\n",
    "print(training_matrix)"
   ]
  },
  {
   "cell_type": "code",
   "execution_count": 45,
   "id": "7acec26a-e59e-42d9-a4e7-3ba15e3189bf",
   "metadata": {},
   "outputs": [
    {
     "name": "stdout",
     "output_type": "stream",
     "text": [
      "[[129 243]\n",
      " [128 313]]\n"
     ]
    }
   ],
   "source": [
    "# Create and save the confustion matrix for the testing data\n",
    "test_matrix = confusion_matrix(y_test, testing_predictions)\n",
    "\n",
    "# Print the confusion matrix for the testing data\n",
    "print(test_matrix)"
   ]
  },
  {
   "cell_type": "code",
   "execution_count": 46,
   "id": "cc21be80-4191-47a5-9fca-d0220adf6c52",
   "metadata": {},
   "outputs": [
    {
     "name": "stdout",
     "output_type": "stream",
     "text": [
      "              precision    recall  f1-score   support\n",
      "\n",
      "          -1       0.53      0.36      0.43      1137\n",
      "           1       0.56      0.72      0.63      1301\n",
      "\n",
      "    accuracy                           0.55      2438\n",
      "   macro avg       0.55      0.54      0.53      2438\n",
      "weighted avg       0.55      0.55      0.54      2438\n",
      "\n"
     ]
    }
   ],
   "source": [
    "# Create and save the training classifiction report\n",
    "training_report = classification_report(y_train, training_predictions)\n",
    "\n",
    "# Print the training classification report\n",
    "print(training_report)"
   ]
  },
  {
   "cell_type": "code",
   "execution_count": 47,
   "id": "6bae1ddc-45e4-469a-8e05-53d4cbf6549c",
   "metadata": {},
   "outputs": [
    {
     "name": "stdout",
     "output_type": "stream",
     "text": [
      "              precision    recall  f1-score   support\n",
      "\n",
      "          -1       0.50      0.35      0.41       372\n",
      "           1       0.56      0.71      0.63       441\n",
      "\n",
      "    accuracy                           0.54       813\n",
      "   macro avg       0.53      0.53      0.52       813\n",
      "weighted avg       0.54      0.54      0.53       813\n",
      "\n"
     ]
    }
   ],
   "source": [
    "# Create and save the testing classifiction report\n",
    "testing_report = classification_report(y_test, testing_predictions)\n",
    "\n",
    "# Print the testing classification report\n",
    "print(testing_report)"
   ]
  },
  {
   "cell_type": "code",
   "execution_count": null,
   "id": "ed2b0865-d371-4552-b3c6-2944c75b036d",
   "metadata": {},
   "outputs": [],
   "source": []
  },
  {
   "cell_type": "code",
   "execution_count": 48,
   "id": "7a62cc7b-b379-4d90-8c33-d2919b003788",
   "metadata": {},
   "outputs": [],
   "source": [
    "from sklearn.naive_bayes import GaussianNB\n",
    "\n",
    "model = GaussianNB()"
   ]
  },
  {
   "cell_type": "code",
   "execution_count": 49,
   "id": "f580ac10-b503-4619-a1f2-b3ba37d64bee",
   "metadata": {},
   "outputs": [
    {
     "data": {
      "text/plain": [
       "array([ 1,  1,  1,  1,  1,  1,  1, -1, -1, -1])"
      ]
     },
     "execution_count": 49,
     "metadata": {},
     "output_type": "execute_result"
    }
   ],
   "source": [
    "model = model.fit(X_train, y_train)\n",
    "pred = model.predict(X_test) \n",
    "pred[:10]"
   ]
  },
  {
   "cell_type": "code",
   "execution_count": 50,
   "id": "7860a47a-5205-43ee-a078-f52851fe4c16",
   "metadata": {},
   "outputs": [
    {
     "name": "stdout",
     "output_type": "stream",
     "text": [
      "              precision    recall  f1-score   support\n",
      "\n",
      "          -1       0.49      0.22      0.31       372\n",
      "           1       0.55      0.80      0.65       441\n",
      "\n",
      "    accuracy                           0.54       813\n",
      "   macro avg       0.52      0.51      0.48       813\n",
      "weighted avg       0.52      0.54      0.49       813\n",
      "\n"
     ]
    }
   ],
   "source": [
    "report = classification_report(y_test, pred)\n",
    "print(report)"
   ]
  },
  {
   "cell_type": "code",
   "execution_count": null,
   "id": "718f73e9-2b9f-4f61-820b-0abaea51426c",
   "metadata": {},
   "outputs": [],
   "source": []
  }
 ],
 "metadata": {
  "kernelspec": {
   "display_name": "Python 3 (ipykernel)",
   "language": "python",
   "name": "python3"
  },
  "language_info": {
   "codemirror_mode": {
    "name": "ipython",
    "version": 3
   },
   "file_extension": ".py",
   "mimetype": "text/x-python",
   "name": "python",
   "nbconvert_exporter": "python",
   "pygments_lexer": "ipython3",
   "version": "3.9.12"
  }
 },
 "nbformat": 4,
 "nbformat_minor": 5
}
