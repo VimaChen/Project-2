{
 "cells": [
  {
   "cell_type": "code",
   "execution_count": 1,
   "metadata": {},
   "outputs": [],
   "source": [
    "import os\n",
    "import requests\n",
    "import pandas as pd\n",
    "from dotenv import load_dotenv\n",
    "import alpaca_trade_api as tradeapi"
   ]
  },
  {
   "cell_type": "code",
   "execution_count": 2,
   "metadata": {},
   "outputs": [],
   "source": [
    "load_dotenv()\n",
    "\n",
    "alpaca_api_key = os.getenv(\"ALPACA_API_KEY\")\n",
    "alpaca_secret_key = os.getenv(\"ALPACA_SECRET_KEY\")\n",
    "\n",
    "api = tradeapi.REST(\n",
    "    alpaca_api_key,\n",
    "    alpaca_secret_key,\n",
    "    api_version = \"v2\"\n",
    ")"
   ]
  },
  {
   "cell_type": "code",
   "execution_count": null,
   "metadata": {},
   "outputs": [],
   "source": [
    "# 1. Pull live data of chosen crypto every 24h\n",
    "# 2. Manipulate data to run through model\n",
    "# 3. Intiate buy/sell based on signal\n",
    "# 4. Loop"
   ]
  },
  {
   "cell_type": "code",
   "execution_count": 22,
   "metadata": {},
   "outputs": [
    {
     "data": {
      "text/plain": [
       "BarV2({   'c': 21688.16,\n",
       "    'h': 21690.85,\n",
       "    'l': 21684.66,\n",
       "    'n': 310,\n",
       "    'o': 21688.8,\n",
       "    't': '2022-08-25T11:47:00Z',\n",
       "    'v': 3.47096586,\n",
       "    'vw': 21688.011096149,\n",
       "    'x': 'CBSE'})"
      ]
     },
     "execution_count": 22,
     "metadata": {},
     "output_type": "execute_result"
    }
   ],
   "source": [
    "# User inputs\n",
    "crypto = 'BTCUSD'\n",
    "investment = 1000\n",
    "\n",
    "# Derived inputs\n",
    "investment_increment = investment/20\n",
    "amount = api.get_latest_crypto_bar(crypto, 'CBSE')\n",
    "# amount = amount of chosen crypto to invest that equals the investment increment\n"
   ]
  },
  {
   "cell_type": "code",
   "execution_count": null,
   "metadata": {},
   "outputs": [],
   "source": [
    "buy_order = api.submit_order(\n",
    "    symbol=crypto,\n",
    "    qty=amount\n",
    ")"
   ]
  }
 ],
 "metadata": {
  "kernelspec": {
   "display_name": "Python 3.7.13 ('alpacaenv')",
   "language": "python",
   "name": "python3"
  },
  "language_info": {
   "codemirror_mode": {
    "name": "ipython",
    "version": 3
   },
   "file_extension": ".py",
   "mimetype": "text/x-python",
   "name": "python",
   "nbconvert_exporter": "python",
   "pygments_lexer": "ipython3",
   "version": "3.7.13"
  },
  "orig_nbformat": 4,
  "vscode": {
   "interpreter": {
    "hash": "8f0704c3451d170b27a9fe3bae46038ebc955a4be6d579ea55a7651d2f495a7d"
   }
  }
 },
 "nbformat": 4,
 "nbformat_minor": 2
}
